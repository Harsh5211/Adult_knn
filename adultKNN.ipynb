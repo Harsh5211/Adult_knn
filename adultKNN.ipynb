{
 "cells": [
  {
   "cell_type": "code",
   "execution_count": null,
   "id": "427fc997",
   "metadata": {},
   "outputs": [],
   "source": [
    "# adultKNN :---"
   ]
  },
  {
   "cell_type": "code",
   "execution_count": 15,
   "id": "a9589e7d",
   "metadata": {},
   "outputs": [],
   "source": [
    "import pandas as pd"
   ]
  },
  {
   "cell_type": "code",
   "execution_count": 16,
   "id": "142357a5",
   "metadata": {},
   "outputs": [],
   "source": [
    "aknn=pd.read_csv(r\"C:\\Users\\HARSH\\Dropbox\\PC\\Desktop\\python dataset\\adultKNN.csv\")"
   ]
  },
  {
   "cell_type": "code",
   "execution_count": 17,
   "id": "c3e9b356",
   "metadata": {},
   "outputs": [
    {
     "data": {
      "text/html": [
       "<div>\n",
       "<style scoped>\n",
       "    .dataframe tbody tr th:only-of-type {\n",
       "        vertical-align: middle;\n",
       "    }\n",
       "\n",
       "    .dataframe tbody tr th {\n",
       "        vertical-align: top;\n",
       "    }\n",
       "\n",
       "    .dataframe thead th {\n",
       "        text-align: right;\n",
       "    }\n",
       "</style>\n",
       "<table border=\"1\" class=\"dataframe\">\n",
       "  <thead>\n",
       "    <tr style=\"text-align: right;\">\n",
       "      <th></th>\n",
       "      <th>age</th>\n",
       "      <th>workclass</th>\n",
       "      <th>fnlwgt</th>\n",
       "      <th>education</th>\n",
       "      <th>educational-num</th>\n",
       "      <th>marital-status</th>\n",
       "      <th>occupation</th>\n",
       "      <th>relationship</th>\n",
       "      <th>race</th>\n",
       "      <th>gender</th>\n",
       "      <th>capital-gain</th>\n",
       "      <th>capital-loss</th>\n",
       "      <th>hours-per-week</th>\n",
       "      <th>native-country</th>\n",
       "      <th>income</th>\n",
       "    </tr>\n",
       "  </thead>\n",
       "  <tbody>\n",
       "    <tr>\n",
       "      <th>0</th>\n",
       "      <td>25</td>\n",
       "      <td>Private</td>\n",
       "      <td>226802</td>\n",
       "      <td>11th</td>\n",
       "      <td>7</td>\n",
       "      <td>Never-married</td>\n",
       "      <td>Machine-op-inspct</td>\n",
       "      <td>Own-child</td>\n",
       "      <td>Black</td>\n",
       "      <td>Male</td>\n",
       "      <td>0</td>\n",
       "      <td>0</td>\n",
       "      <td>40</td>\n",
       "      <td>United-States</td>\n",
       "      <td>&lt;=50K</td>\n",
       "    </tr>\n",
       "    <tr>\n",
       "      <th>1</th>\n",
       "      <td>38</td>\n",
       "      <td>Private</td>\n",
       "      <td>89814</td>\n",
       "      <td>HS-grad</td>\n",
       "      <td>9</td>\n",
       "      <td>Married-civ-spouse</td>\n",
       "      <td>Farming-fishing</td>\n",
       "      <td>Husband</td>\n",
       "      <td>White</td>\n",
       "      <td>Male</td>\n",
       "      <td>0</td>\n",
       "      <td>0</td>\n",
       "      <td>50</td>\n",
       "      <td>United-States</td>\n",
       "      <td>&lt;=50K</td>\n",
       "    </tr>\n",
       "    <tr>\n",
       "      <th>2</th>\n",
       "      <td>28</td>\n",
       "      <td>Local-gov</td>\n",
       "      <td>336951</td>\n",
       "      <td>Assoc-acdm</td>\n",
       "      <td>12</td>\n",
       "      <td>Married-civ-spouse</td>\n",
       "      <td>Protective-serv</td>\n",
       "      <td>Husband</td>\n",
       "      <td>White</td>\n",
       "      <td>Male</td>\n",
       "      <td>0</td>\n",
       "      <td>0</td>\n",
       "      <td>40</td>\n",
       "      <td>United-States</td>\n",
       "      <td>&gt;50K</td>\n",
       "    </tr>\n",
       "  </tbody>\n",
       "</table>\n",
       "</div>"
      ],
      "text/plain": [
       "   age  workclass  fnlwgt   education  educational-num      marital-status  \\\n",
       "0   25    Private  226802        11th                7       Never-married   \n",
       "1   38    Private   89814     HS-grad                9  Married-civ-spouse   \n",
       "2   28  Local-gov  336951  Assoc-acdm               12  Married-civ-spouse   \n",
       "\n",
       "          occupation relationship   race gender  capital-gain  capital-loss  \\\n",
       "0  Machine-op-inspct    Own-child  Black   Male             0             0   \n",
       "1    Farming-fishing      Husband  White   Male             0             0   \n",
       "2    Protective-serv      Husband  White   Male             0             0   \n",
       "\n",
       "   hours-per-week native-country income  \n",
       "0              40  United-States  <=50K  \n",
       "1              50  United-States  <=50K  \n",
       "2              40  United-States   >50K  "
      ]
     },
     "execution_count": 17,
     "metadata": {},
     "output_type": "execute_result"
    }
   ],
   "source": [
    "aknn.head(3)"
   ]
  },
  {
   "cell_type": "code",
   "execution_count": 570,
   "id": "a7926780",
   "metadata": {},
   "outputs": [
    {
     "data": {
      "text/plain": [
       "(48842, 15)"
      ]
     },
     "execution_count": 570,
     "metadata": {},
     "output_type": "execute_result"
    }
   ],
   "source": [
    "aknn.shape"
   ]
  },
  {
   "cell_type": "code",
   "execution_count": 18,
   "id": "3e2dd007",
   "metadata": {},
   "outputs": [],
   "source": [
    "# finding nulls :--"
   ]
  },
  {
   "cell_type": "code",
   "execution_count": 19,
   "id": "fab2f7e1",
   "metadata": {},
   "outputs": [
    {
     "data": {
      "text/plain": [
       "Series([], dtype: int64)"
      ]
     },
     "execution_count": 19,
     "metadata": {},
     "output_type": "execute_result"
    }
   ],
   "source": [
    "aknn.isnull().sum()[aknn.isnull().sum() > 0]"
   ]
  },
  {
   "cell_type": "code",
   "execution_count": 20,
   "id": "25c70773",
   "metadata": {},
   "outputs": [],
   "source": [
    "# no nulls are there "
   ]
  },
  {
   "cell_type": "code",
   "execution_count": 21,
   "id": "7d8c0fe9",
   "metadata": {},
   "outputs": [],
   "source": [
    "# '?' as nulls "
   ]
  },
  {
   "cell_type": "code",
   "execution_count": 22,
   "id": "6817b4b9",
   "metadata": {},
   "outputs": [],
   "source": [
    "import numpy as np"
   ]
  },
  {
   "cell_type": "code",
   "execution_count": 23,
   "id": "907e60d7",
   "metadata": {},
   "outputs": [],
   "source": [
    "aknn = aknn.replace({'?': np.nan})   # converting ? to nulls "
   ]
  },
  {
   "cell_type": "code",
   "execution_count": 14,
   "id": "4e13e3c8",
   "metadata": {},
   "outputs": [
    {
     "data": {
      "text/plain": [
       "Series([], dtype: int64)"
      ]
     },
     "execution_count": 14,
     "metadata": {},
     "output_type": "execute_result"
    }
   ],
   "source": [
    "aknn.isnull().sum()[aknn.isnull().sum() >0]"
   ]
  },
  {
   "cell_type": "code",
   "execution_count": 11,
   "id": "27f53c70",
   "metadata": {},
   "outputs": [],
   "source": [
    "# now fillna "
   ]
  },
  {
   "cell_type": "code",
   "execution_count": 26,
   "id": "4647bcb5",
   "metadata": {},
   "outputs": [],
   "source": [
    "# replace all objects with numeric values:-   \n",
    "aknn.education.replace({'11th':7, 'HS-grad':9, 'Assoc-acdm':11, 'Some-college':10, '10th':6,\n",
    "       'Prof-school':14, '7th-8th':4, 'Bachelors':13, 'Masters':15, 'Doctorate':16,\n",
    "       '5th-6th':3, 'Assoc-voc':12, '9th':5, '12th':8, '1st-4th':2, 'Preschool':1} ,inplace = True)\n",
    "\n",
    "aknn.gender.replace({'Male':1, 'Female':0} ,inplace = True)\n",
    "aknn.income.replace({'<=50K':0, '>50K':1} ,inplace = True)"
   ]
  },
  {
   "cell_type": "code",
   "execution_count": 27,
   "id": "c6919cf6",
   "metadata": {},
   "outputs": [],
   "source": [
    "# replace with le fit:-\n",
    "\n",
    "import sklearn\n",
    "from sklearn.preprocessing import LabelEncoder\n",
    "le = LabelEncoder()\n",
    "\n",
    "aknn.workclass = le.fit_transform(aknn.workclass)\n",
    "aknn['marital-status'] = le.fit_transform(aknn['marital-status'])\n",
    "aknn.occupation = le.fit_transform(aknn.occupation)\n",
    "aknn.relationship = le.fit_transform(aknn.relationship)\n",
    "aknn.race = le.fit_transform(aknn.race)\n",
    "aknn['native-country']= le.fit_transform(aknn['native-country'])"
   ]
  },
  {
   "cell_type": "code",
   "execution_count": 24,
   "id": "a0e1da4d",
   "metadata": {},
   "outputs": [],
   "source": [
    "\n",
    "\n",
    "aknn.occupation.fillna('other' , inplace = True)\n",
    "\n",
    "aknn.workclass.fillna('Private' , inplace = True)\n",
    "\n",
    "aknn['native-country'].fillna('United-States' , inplace = True)"
   ]
  },
  {
   "cell_type": "code",
   "execution_count": 28,
   "id": "809a563c",
   "metadata": {},
   "outputs": [
    {
     "data": {
      "text/plain": [
       "Series([], dtype: int64)"
      ]
     },
     "execution_count": 28,
     "metadata": {},
     "output_type": "execute_result"
    }
   ],
   "source": [
    "aknn.isnull().sum()[aknn.isnull().sum() >0]"
   ]
  },
  {
   "cell_type": "code",
   "execution_count": null,
   "id": "3f47192c",
   "metadata": {},
   "outputs": [],
   "source": [
    "# replace objects into numeric"
   ]
  },
  {
   "cell_type": "code",
   "execution_count": null,
   "id": "e94d052d",
   "metadata": {},
   "outputs": [],
   "source": []
  },
  {
   "cell_type": "code",
   "execution_count": 51,
   "id": "853f6317",
   "metadata": {},
   "outputs": [],
   "source": [
    "# sampling :--\n",
    "\n",
    "from sklearn.model_selection import train_test_split\n",
    "aknn_train , aknn_test  =train_test_split(aknn , test_size= .2 , random_state=123)\n",
    "\n",
    "# # oversampling stage:-\n",
    "# df1 = aknn_train[aknn_train.income == 1]\n",
    "# aknn_train = pd.concat([aknn_train , df1 , df1 ])\n",
    "\n",
    "aknn_train_x= aknn_train.iloc[ : , 0:-1] # it will take from starting to y\n",
    "aknn_train_y= aknn_train.iloc[ : , -1] \n",
    "\n",
    "aknn_test_x= aknn_train.iloc[ : , 0:-1] # it will take from starting to y\n",
    "aknn_test_y= aknn_train.iloc[ : , -1] "
   ]
  },
  {
   "cell_type": "code",
   "execution_count": null,
   "id": "a14386cc",
   "metadata": {},
   "outputs": [],
   "source": []
  },
  {
   "cell_type": "markdown",
   "id": "9fd3aa9e",
   "metadata": {},
   "source": [
    "# logestic regression :---"
   ]
  },
  {
   "cell_type": "code",
   "execution_count": 52,
   "id": "84c8c026",
   "metadata": {},
   "outputs": [],
   "source": [
    "from sklearn.linear_model import LogisticRegression\n",
    "logreg = LogisticRegression(class_weight='Balanced')"
   ]
  },
  {
   "cell_type": "code",
   "execution_count": 53,
   "id": "dd63437c",
   "metadata": {},
   "outputs": [
    {
     "data": {
      "text/plain": [
       "LogisticRegression(class_weight='Balanced')"
      ]
     },
     "execution_count": 53,
     "metadata": {},
     "output_type": "execute_result"
    }
   ],
   "source": [
    "logreg.fit(aknn_train_x , aknn_train_y)"
   ]
  },
  {
   "cell_type": "code",
   "execution_count": 54,
   "id": "81562b31",
   "metadata": {},
   "outputs": [],
   "source": [
    "# prediction :---\n",
    "\n",
    "pred_logreg = logreg.predict(aknn_test_x)"
   ]
  },
  {
   "cell_type": "code",
   "execution_count": 55,
   "id": "3f710896",
   "metadata": {},
   "outputs": [],
   "source": [
    "# building confusion matrix :--\n",
    "\n",
    "from sklearn.metrics import confusion_matrix ,classification_report"
   ]
  },
  {
   "cell_type": "code",
   "execution_count": 56,
   "id": "0f47bf9f",
   "metadata": {},
   "outputs": [
    {
     "data": {
      "text/plain": [
       "array([[22385,  7353],\n",
       "       [11868, 16137]], dtype=int64)"
      ]
     },
     "execution_count": 56,
     "metadata": {},
     "output_type": "execute_result"
    }
   ],
   "source": [
    "tab_aknn = confusion_matrix(aknn_test_y , pred_logreg)\n",
    "tab_aknn"
   ]
  },
  {
   "cell_type": "code",
   "execution_count": 57,
   "id": "4bde0839",
   "metadata": {},
   "outputs": [
    {
     "name": "stdout",
     "output_type": "stream",
     "text": [
      "              precision    recall  f1-score   support\n",
      "\n",
      "           0       0.65      0.75      0.70     29738\n",
      "           1       0.69      0.58      0.63     28005\n",
      "\n",
      "    accuracy                           0.67     57743\n",
      "   macro avg       0.67      0.66      0.66     57743\n",
      "weighted avg       0.67      0.67      0.66     57743\n",
      "\n"
     ]
    }
   ],
   "source": [
    "print(classification_report(aknn_test_y , pred_logreg))"
   ]
  },
  {
   "cell_type": "code",
   "execution_count": 58,
   "id": "976c07be",
   "metadata": {},
   "outputs": [],
   "source": [
    "# representation :-- "
   ]
  },
  {
   "cell_type": "code",
   "execution_count": 59,
   "id": "30a4e31a",
   "metadata": {},
   "outputs": [
    {
     "data": {
      "text/html": [
       "<div>\n",
       "<style scoped>\n",
       "    .dataframe tbody tr th:only-of-type {\n",
       "        vertical-align: middle;\n",
       "    }\n",
       "\n",
       "    .dataframe tbody tr th {\n",
       "        vertical-align: top;\n",
       "    }\n",
       "\n",
       "    .dataframe thead th {\n",
       "        text-align: right;\n",
       "    }\n",
       "</style>\n",
       "<table border=\"1\" class=\"dataframe\">\n",
       "  <thead>\n",
       "    <tr style=\"text-align: right;\">\n",
       "      <th></th>\n",
       "      <th>&lt;=50</th>\n",
       "      <th>&gt;50</th>\n",
       "    </tr>\n",
       "  </thead>\n",
       "  <tbody>\n",
       "    <tr>\n",
       "      <th>&lt;=50</th>\n",
       "      <td>22385</td>\n",
       "      <td>7353</td>\n",
       "    </tr>\n",
       "    <tr>\n",
       "      <th>&gt;50</th>\n",
       "      <td>11868</td>\n",
       "      <td>16137</td>\n",
       "    </tr>\n",
       "  </tbody>\n",
       "</table>\n",
       "</div>"
      ],
      "text/plain": [
       "       <=50    >50\n",
       "<=50  22385   7353\n",
       ">50   11868  16137"
      ]
     },
     "execution_count": 59,
     "metadata": {},
     "output_type": "execute_result"
    }
   ],
   "source": [
    "tab_aknn = pd.DataFrame (tab_aknn)\n",
    "tab_aknn.columns = ['<=50' , '>50']\n",
    "tab_aknn.index   = ['<=50' , '>50']\n",
    "tab_aknn"
   ]
  },
  {
   "cell_type": "code",
   "execution_count": 60,
   "id": "b39620c3",
   "metadata": {},
   "outputs": [
    {
     "data": {
      "text/plain": [
       "(57743,)"
      ]
     },
     "execution_count": 60,
     "metadata": {},
     "output_type": "execute_result"
    }
   ],
   "source": [
    "aknn_test_y.shape"
   ]
  },
  {
   "cell_type": "code",
   "execution_count": 544,
   "id": "f19452ac",
   "metadata": {},
   "outputs": [],
   "source": [
    "# AUROC :--"
   ]
  },
  {
   "cell_type": "code",
   "execution_count": 546,
   "id": "88472de3",
   "metadata": {},
   "outputs": [],
   "source": [
    "# evaluation \n",
    "\n",
    "# AUROC (plot and the area)"
   ]
  },
  {
   "cell_type": "code",
   "execution_count": 547,
   "id": "1b4b891c",
   "metadata": {},
   "outputs": [],
   "source": [
    "# prediction under probabilities\n",
    "\n",
    "pred_logreg_proba = logreg.predict_proba(aknn_train_x)"
   ]
  },
  {
   "cell_type": "code",
   "execution_count": 548,
   "id": "f5598563",
   "metadata": {},
   "outputs": [],
   "source": [
    "from sklearn.metrics import roc_curve ,  roc_auc_score"
   ]
  },
  {
   "cell_type": "code",
   "execution_count": 549,
   "id": "4fcceac5",
   "metadata": {},
   "outputs": [
    {
     "data": {
      "text/plain": [
       "0.7673033062212344"
      ]
     },
     "execution_count": 549,
     "metadata": {},
     "output_type": "execute_result"
    }
   ],
   "source": [
    "# area under the curve :--\n",
    "\n",
    "roc_auc_score(aknn_test_y, pred_logreg_proba[: , 1])  "
   ]
  },
  {
   "cell_type": "code",
   "execution_count": 550,
   "id": "948fe90c",
   "metadata": {},
   "outputs": [],
   "source": [
    "fpr , tpr , thre =roc_curve(aknn_test_y ,pred_logreg_proba[: , 1]) "
   ]
  },
  {
   "cell_type": "code",
   "execution_count": 551,
   "id": "c3da8cb7",
   "metadata": {},
   "outputs": [],
   "source": [
    "import matplotlib.pyplot as plt"
   ]
  },
  {
   "cell_type": "code",
   "execution_count": 552,
   "id": "e5ff3a5f",
   "metadata": {},
   "outputs": [
    {
     "data": {
      "image/png": "[encoded data removed]",
      "text/plain": [
       "<Figure size 432x288 with 1 Axes>"
      ]
     },
     "metadata": {
      "needs_background": "light"
     },
     "output_type": "display_data"
    }
   ],
   "source": [
    "plt.plot(fpr , tpr)\n",
    "plt.xlabel(\"Fpr\")\n",
    "plt.ylabel(\"Tpr\")\n",
    "plt.title(\"AUROC on AKNN Data\")\n",
    "plt.grid(linestyle='-.')\n"
   ]
  },
  {
   "cell_type": "code",
   "execution_count": null,
   "id": "0690cc58",
   "metadata": {},
   "outputs": [],
   "source": []
  },
  {
   "cell_type": "code",
   "execution_count": null,
   "id": "d3ffc0e3",
   "metadata": {},
   "outputs": [],
   "source": [
    "# try chisquare here and plots "
   ]
  },
  {
   "cell_type": "code",
   "execution_count": 553,
   "id": "16f12268",
   "metadata": {},
   "outputs": [],
   "source": [
    "from scipy.stats import chi2_contingency"
   ]
  },
  {
   "cell_type": "code",
   "execution_count": 557,
   "id": "9d152616",
   "metadata": {},
   "outputs": [],
   "source": [
    "pvalue_list = []\n",
    "for i in aknn_test_x.columns :\n",
    "    tab_chi = pd.crosstab(aknn_train_x[i], aknn_train_y)\n",
    "    pvalue = chi2_contingency(tab_chi)[1]\n",
    "    #print(i ,  ''   , pvalue)\n",
    "    pvalue_list.append(pvalue)"
   ]
  },
  {
   "cell_type": "code",
   "execution_count": 567,
   "id": "5a319be0",
   "metadata": {},
   "outputs": [
    {
     "data": {
      "text/html": [
       "<div>\n",
       "<style scoped>\n",
       "    .dataframe tbody tr th:only-of-type {\n",
       "        vertical-align: middle;\n",
       "    }\n",
       "\n",
       "    .dataframe tbody tr th {\n",
       "        vertical-align: top;\n",
       "    }\n",
       "\n",
       "    .dataframe thead th {\n",
       "        text-align: right;\n",
       "    }\n",
       "</style>\n",
       "<table border=\"1\" class=\"dataframe\">\n",
       "  <thead>\n",
       "    <tr style=\"text-align: right;\">\n",
       "      <th></th>\n",
       "      <th>Features</th>\n",
       "      <th>Importance</th>\n",
       "    </tr>\n",
       "  </thead>\n",
       "  <tbody>\n",
       "    <tr>\n",
       "      <th>0</th>\n",
       "      <td>age</td>\n",
       "      <td>0.000000e+00</td>\n",
       "    </tr>\n",
       "    <tr>\n",
       "      <th>1</th>\n",
       "      <td>workclass</td>\n",
       "      <td>0.000000e+00</td>\n",
       "    </tr>\n",
       "    <tr>\n",
       "      <th>2</th>\n",
       "      <td>fnlwgt</td>\n",
       "      <td>0.000000e+00</td>\n",
       "    </tr>\n",
       "    <tr>\n",
       "      <th>3</th>\n",
       "      <td>education</td>\n",
       "      <td>0.000000e+00</td>\n",
       "    </tr>\n",
       "    <tr>\n",
       "      <th>4</th>\n",
       "      <td>educational-num</td>\n",
       "      <td>0.000000e+00</td>\n",
       "    </tr>\n",
       "    <tr>\n",
       "      <th>5</th>\n",
       "      <td>marital-status</td>\n",
       "      <td>0.000000e+00</td>\n",
       "    </tr>\n",
       "    <tr>\n",
       "      <th>6</th>\n",
       "      <td>occupation</td>\n",
       "      <td>0.000000e+00</td>\n",
       "    </tr>\n",
       "    <tr>\n",
       "      <th>7</th>\n",
       "      <td>relationship</td>\n",
       "      <td>0.000000e+00</td>\n",
       "    </tr>\n",
       "    <tr>\n",
       "      <th>9</th>\n",
       "      <td>gender</td>\n",
       "      <td>0.000000e+00</td>\n",
       "    </tr>\n",
       "    <tr>\n",
       "      <th>10</th>\n",
       "      <td>capital-gain</td>\n",
       "      <td>0.000000e+00</td>\n",
       "    </tr>\n",
       "    <tr>\n",
       "      <th>11</th>\n",
       "      <td>capital-loss</td>\n",
       "      <td>0.000000e+00</td>\n",
       "    </tr>\n",
       "    <tr>\n",
       "      <th>12</th>\n",
       "      <td>hours-per-week</td>\n",
       "      <td>0.000000e+00</td>\n",
       "    </tr>\n",
       "    <tr>\n",
       "      <th>8</th>\n",
       "      <td>race</td>\n",
       "      <td>9.786323e-200</td>\n",
       "    </tr>\n",
       "    <tr>\n",
       "      <th>13</th>\n",
       "      <td>native-country</td>\n",
       "      <td>1.153729e-166</td>\n",
       "    </tr>\n",
       "  </tbody>\n",
       "</table>\n",
       "</div>"
      ],
      "text/plain": [
       "           Features     Importance\n",
       "0               age   0.000000e+00\n",
       "1         workclass   0.000000e+00\n",
       "2            fnlwgt   0.000000e+00\n",
       "3         education   0.000000e+00\n",
       "4   educational-num   0.000000e+00\n",
       "5    marital-status   0.000000e+00\n",
       "6        occupation   0.000000e+00\n",
       "7      relationship   0.000000e+00\n",
       "9            gender   0.000000e+00\n",
       "10     capital-gain   0.000000e+00\n",
       "11     capital-loss   0.000000e+00\n",
       "12   hours-per-week   0.000000e+00\n",
       "8              race  9.786323e-200\n",
       "13   native-country  1.153729e-166"
      ]
     },
     "execution_count": 567,
     "metadata": {},
     "output_type": "execute_result"
    }
   ],
   "source": [
    "feat_imp_chi = pd.DataFrame()\n",
    "feat_imp_chi['Features'] = aknn_train_x.columns\n",
    "feat_imp_chi['Importance'] = pvalue_list\n",
    "feat_imp_chi.sort_values('Importance')\n"
   ]
  },
  {
   "cell_type": "code",
   "execution_count": 569,
   "id": "43ae2dc8",
   "metadata": {},
   "outputs": [
    {
     "data": {
      "text/html": [
       "<div>\n",
       "<style scoped>\n",
       "    .dataframe tbody tr th:only-of-type {\n",
       "        vertical-align: middle;\n",
       "    }\n",
       "\n",
       "    .dataframe tbody tr th {\n",
       "        vertical-align: top;\n",
       "    }\n",
       "\n",
       "    .dataframe thead th {\n",
       "        text-align: right;\n",
       "    }\n",
       "</style>\n",
       "<table border=\"1\" class=\"dataframe\">\n",
       "  <thead>\n",
       "    <tr style=\"text-align: right;\">\n",
       "      <th></th>\n",
       "      <th>Features</th>\n",
       "      <th>Importance</th>\n",
       "    </tr>\n",
       "  </thead>\n",
       "  <tbody>\n",
       "    <tr>\n",
       "      <th>0</th>\n",
       "      <td>age</td>\n",
       "      <td>0.000000e+00</td>\n",
       "    </tr>\n",
       "    <tr>\n",
       "      <th>1</th>\n",
       "      <td>workclass</td>\n",
       "      <td>0.000000e+00</td>\n",
       "    </tr>\n",
       "    <tr>\n",
       "      <th>2</th>\n",
       "      <td>fnlwgt</td>\n",
       "      <td>0.000000e+00</td>\n",
       "    </tr>\n",
       "    <tr>\n",
       "      <th>3</th>\n",
       "      <td>education</td>\n",
       "      <td>0.000000e+00</td>\n",
       "    </tr>\n",
       "    <tr>\n",
       "      <th>4</th>\n",
       "      <td>educational-num</td>\n",
       "      <td>0.000000e+00</td>\n",
       "    </tr>\n",
       "    <tr>\n",
       "      <th>5</th>\n",
       "      <td>marital-status</td>\n",
       "      <td>0.000000e+00</td>\n",
       "    </tr>\n",
       "    <tr>\n",
       "      <th>6</th>\n",
       "      <td>occupation</td>\n",
       "      <td>0.000000e+00</td>\n",
       "    </tr>\n",
       "    <tr>\n",
       "      <th>7</th>\n",
       "      <td>relationship</td>\n",
       "      <td>0.000000e+00</td>\n",
       "    </tr>\n",
       "    <tr>\n",
       "      <th>8</th>\n",
       "      <td>race</td>\n",
       "      <td>9.786323e-200</td>\n",
       "    </tr>\n",
       "    <tr>\n",
       "      <th>9</th>\n",
       "      <td>gender</td>\n",
       "      <td>0.000000e+00</td>\n",
       "    </tr>\n",
       "    <tr>\n",
       "      <th>10</th>\n",
       "      <td>capital-gain</td>\n",
       "      <td>0.000000e+00</td>\n",
       "    </tr>\n",
       "    <tr>\n",
       "      <th>11</th>\n",
       "      <td>capital-loss</td>\n",
       "      <td>0.000000e+00</td>\n",
       "    </tr>\n",
       "    <tr>\n",
       "      <th>12</th>\n",
       "      <td>hours-per-week</td>\n",
       "      <td>0.000000e+00</td>\n",
       "    </tr>\n",
       "    <tr>\n",
       "      <th>13</th>\n",
       "      <td>native-country</td>\n",
       "      <td>1.153729e-166</td>\n",
       "    </tr>\n",
       "  </tbody>\n",
       "</table>\n",
       "</div>"
      ],
      "text/plain": [
       "           Features     Importance\n",
       "0               age   0.000000e+00\n",
       "1         workclass   0.000000e+00\n",
       "2            fnlwgt   0.000000e+00\n",
       "3         education   0.000000e+00\n",
       "4   educational-num   0.000000e+00\n",
       "5    marital-status   0.000000e+00\n",
       "6        occupation   0.000000e+00\n",
       "7      relationship   0.000000e+00\n",
       "8              race  9.786323e-200\n",
       "9            gender   0.000000e+00\n",
       "10     capital-gain   0.000000e+00\n",
       "11     capital-loss   0.000000e+00\n",
       "12   hours-per-week   0.000000e+00\n",
       "13   native-country  1.153729e-166"
      ]
     },
     "execution_count": 569,
     "metadata": {},
     "output_type": "execute_result"
    }
   ],
   "source": [
    "feat_imp_chi[feat_imp_chi.Importance <= 0.05]"
   ]
  },
  {
   "cell_type": "code",
   "execution_count": null,
   "id": "3d213702",
   "metadata": {},
   "outputs": [],
   "source": [
    "# l1 = list(feat_imp_chi.Features[0:10])\n",
    "# l1.append('income')\n",
    "# l1"
   ]
  },
  {
   "cell_type": "code",
   "execution_count": null,
   "id": "3fb2260c",
   "metadata": {},
   "outputs": [],
   "source": []
  },
  {
   "cell_type": "code",
   "execution_count": null,
   "id": "573bbf63",
   "metadata": {},
   "outputs": [],
   "source": []
  },
  {
   "cell_type": "markdown",
   "id": "4e64f389",
   "metadata": {},
   "source": [
    "############################## Decision Tree######################################################"
   ]
  },
  {
   "cell_type": "code",
   "execution_count": 149,
   "id": "42b94d87",
   "metadata": {},
   "outputs": [],
   "source": [
    "aknn=pd.read_csv(r\"C:\\Users\\HARSH\\Dropbox\\PC\\Desktop\\python dataset\\adultKNN.csv\")"
   ]
  },
  {
   "cell_type": "code",
   "execution_count": 150,
   "id": "37f4882d",
   "metadata": {},
   "outputs": [
    {
     "data": {
      "text/html": [
       "<div>\n",
       "<style scoped>\n",
       "    .dataframe tbody tr th:only-of-type {\n",
       "        vertical-align: middle;\n",
       "    }\n",
       "\n",
       "    .dataframe tbody tr th {\n",
       "        vertical-align: top;\n",
       "    }\n",
       "\n",
       "    .dataframe thead th {\n",
       "        text-align: right;\n",
       "    }\n",
       "</style>\n",
       "<table border=\"1\" class=\"dataframe\">\n",
       "  <thead>\n",
       "    <tr style=\"text-align: right;\">\n",
       "      <th></th>\n",
       "      <th>age</th>\n",
       "      <th>workclass</th>\n",
       "      <th>fnlwgt</th>\n",
       "      <th>education</th>\n",
       "      <th>educational-num</th>\n",
       "      <th>marital-status</th>\n",
       "      <th>occupation</th>\n",
       "      <th>relationship</th>\n",
       "      <th>race</th>\n",
       "      <th>gender</th>\n",
       "      <th>capital-gain</th>\n",
       "      <th>capital-loss</th>\n",
       "      <th>hours-per-week</th>\n",
       "      <th>native-country</th>\n",
       "      <th>income</th>\n",
       "    </tr>\n",
       "  </thead>\n",
       "  <tbody>\n",
       "    <tr>\n",
       "      <th>0</th>\n",
       "      <td>25</td>\n",
       "      <td>Private</td>\n",
       "      <td>226802</td>\n",
       "      <td>11th</td>\n",
       "      <td>7</td>\n",
       "      <td>Never-married</td>\n",
       "      <td>Machine-op-inspct</td>\n",
       "      <td>Own-child</td>\n",
       "      <td>Black</td>\n",
       "      <td>Male</td>\n",
       "      <td>0</td>\n",
       "      <td>0</td>\n",
       "      <td>40</td>\n",
       "      <td>United-States</td>\n",
       "      <td>&lt;=50K</td>\n",
       "    </tr>\n",
       "    <tr>\n",
       "      <th>1</th>\n",
       "      <td>38</td>\n",
       "      <td>Private</td>\n",
       "      <td>89814</td>\n",
       "      <td>HS-grad</td>\n",
       "      <td>9</td>\n",
       "      <td>Married-civ-spouse</td>\n",
       "      <td>Farming-fishing</td>\n",
       "      <td>Husband</td>\n",
       "      <td>White</td>\n",
       "      <td>Male</td>\n",
       "      <td>0</td>\n",
       "      <td>0</td>\n",
       "      <td>50</td>\n",
       "      <td>United-States</td>\n",
       "      <td>&lt;=50K</td>\n",
       "    </tr>\n",
       "    <tr>\n",
       "      <th>2</th>\n",
       "      <td>28</td>\n",
       "      <td>Local-gov</td>\n",
       "      <td>336951</td>\n",
       "      <td>Assoc-acdm</td>\n",
       "      <td>12</td>\n",
       "      <td>Married-civ-spouse</td>\n",
       "      <td>Protective-serv</td>\n",
       "      <td>Husband</td>\n",
       "      <td>White</td>\n",
       "      <td>Male</td>\n",
       "      <td>0</td>\n",
       "      <td>0</td>\n",
       "      <td>40</td>\n",
       "      <td>United-States</td>\n",
       "      <td>&gt;50K</td>\n",
       "    </tr>\n",
       "  </tbody>\n",
       "</table>\n",
       "</div>"
      ],
      "text/plain": [
       "   age  workclass  fnlwgt   education  educational-num      marital-status  \\\n",
       "0   25    Private  226802        11th                7       Never-married   \n",
       "1   38    Private   89814     HS-grad                9  Married-civ-spouse   \n",
       "2   28  Local-gov  336951  Assoc-acdm               12  Married-civ-spouse   \n",
       "\n",
       "          occupation relationship   race gender  capital-gain  capital-loss  \\\n",
       "0  Machine-op-inspct    Own-child  Black   Male             0             0   \n",
       "1    Farming-fishing      Husband  White   Male             0             0   \n",
       "2    Protective-serv      Husband  White   Male             0             0   \n",
       "\n",
       "   hours-per-week native-country income  \n",
       "0              40  United-States  <=50K  \n",
       "1              50  United-States  <=50K  \n",
       "2              40  United-States   >50K  "
      ]
     },
     "execution_count": 150,
     "metadata": {},
     "output_type": "execute_result"
    }
   ],
   "source": [
    "aknn.head(3)"
   ]
  },
  {
   "cell_type": "code",
   "execution_count": 151,
   "id": "b851f791",
   "metadata": {},
   "outputs": [],
   "source": [
    "aknn = aknn.replace({'?': np.nan}) "
   ]
  },
  {
   "cell_type": "code",
   "execution_count": 152,
   "id": "efb4a092",
   "metadata": {},
   "outputs": [
    {
     "data": {
      "text/plain": [
       "workclass         2799\n",
       "occupation        2809\n",
       "native-country     857\n",
       "dtype: int64"
      ]
     },
     "execution_count": 152,
     "metadata": {},
     "output_type": "execute_result"
    }
   ],
   "source": [
    "aknn.isnull().sum()[aknn.isnull().sum() >0]"
   ]
  },
  {
   "cell_type": "code",
   "execution_count": 153,
   "id": "31e03382",
   "metadata": {},
   "outputs": [],
   "source": [
    "\n",
    "\n",
    "aknn.occupation.fillna('other' , inplace = True)\n",
    "\n",
    "aknn.workclass.fillna('Private' , inplace = True)\n",
    "\n",
    "aknn['native-country'].fillna('United-States' , inplace = True)"
   ]
  },
  {
   "cell_type": "code",
   "execution_count": 154,
   "id": "d91dd172",
   "metadata": {},
   "outputs": [],
   "source": [
    "# replace all objects with numeric values:-   \n",
    "aknn.education.replace({'11th':7, 'HS-grad':9, 'Assoc-acdm':11, 'Some-college':10, '10th':6,\n",
    "       'Prof-school':14, '7th-8th':4, 'Bachelors':13, 'Masters':15, 'Doctorate':16,\n",
    "       '5th-6th':3, 'Assoc-voc':12, '9th':5, '12th':8, '1st-4th':2, 'Preschool':1} ,inplace = True)\n",
    "\n",
    "aknn.gender.replace({'Male':1, 'Female':0} ,inplace = True)\n",
    "aknn.income.replace({'<=50K':0, '>50K':1} ,inplace = True)"
   ]
  },
  {
   "cell_type": "code",
   "execution_count": 155,
   "id": "8b0c1f9a",
   "metadata": {},
   "outputs": [],
   "source": [
    "# replace with le fit:-\n",
    "\n",
    "import sklearn\n",
    "from sklearn.preprocessing import LabelEncoder\n",
    "le = LabelEncoder()\n",
    "\n",
    "aknn.workclass = le.fit_transform(aknn.workclass)\n",
    "aknn['marital-status'] = le.fit_transform(aknn['marital-status'])\n",
    "aknn.occupation = le.fit_transform(aknn.occupation)\n",
    "aknn.relationship = le.fit_transform(aknn.relationship)\n",
    "aknn.race = le.fit_transform(aknn.race)\n",
    "aknn['native-country']= le.fit_transform(aknn['native-country'])"
   ]
  },
  {
   "cell_type": "code",
   "execution_count": 156,
   "id": "16a6c697",
   "metadata": {},
   "outputs": [
    {
     "data": {
      "text/plain": [
       "Index([], dtype='object')"
      ]
     },
     "execution_count": 156,
     "metadata": {},
     "output_type": "execute_result"
    }
   ],
   "source": [
    "# identify the objects:- \n",
    "aknn.select_dtypes(include='object').columns"
   ]
  },
  {
   "cell_type": "code",
   "execution_count": null,
   "id": "c699ec2e",
   "metadata": {},
   "outputs": [],
   "source": [
    "# feature imp line:-#### this line should be just before sampling stage \n",
    "aknn = aknn.loc[:,l1]"
   ]
  },
  {
   "cell_type": "markdown",
   "id": "cbba22c5",
   "metadata": {},
   "source": [
    "#### sampling in dt"
   ]
  },
  {
   "cell_type": "code",
   "execution_count": 160,
   "id": "def9d527",
   "metadata": {},
   "outputs": [],
   "source": [
    "# sampling :--\n",
    "\n",
    "from sklearn.model_selection import train_test_split\n",
    "aknn_train , aknn_test  =train_test_split(aknn , test_size= .2 , random_state=123)\n",
    "\n",
    "# # oversampling stage:-\n",
    "# df1 = aknn_train[aknn_train.income == 1]\n",
    "# aknn_train = pd.concat([aknn_train , df1 , df1 ])\n",
    "\n",
    "aknn_train_x= aknn_train.iloc[ : , 0:-1] # it will take from starting to before y\n",
    "aknn_train_y= aknn_train.iloc[ : , -1] # this will take y \n",
    "\n",
    "aknn_test_x= aknn_train.iloc[ : , 0:-1] # it will take from starting to before y\n",
    "aknn_test_y= aknn_train.iloc[ : , -1] # this will take y "
   ]
  },
  {
   "cell_type": "code",
   "execution_count": 159,
   "id": "2ad70432",
   "metadata": {},
   "outputs": [],
   "source": []
  },
  {
   "cell_type": "code",
   "execution_count": null,
   "id": "b320daf9",
   "metadata": {},
   "outputs": [],
   "source": [
    "# model building in DT:---"
   ]
  },
  {
   "cell_type": "code",
   "execution_count": 161,
   "id": "7cdcb2e7",
   "metadata": {},
   "outputs": [],
   "source": [
    "from sklearn.tree import DecisionTreeClassifier\n",
    "dt = DecisionTreeClassifier(class_weight='balanced', max_depth=7, min_samples_split=25)"
   ]
  },
  {
   "cell_type": "code",
   "execution_count": 162,
   "id": "892a4d88",
   "metadata": {},
   "outputs": [
    {
     "data": {
      "text/plain": [
       "DecisionTreeClassifier(class_weight='balanced', max_depth=7,\n",
       "                       min_samples_split=25)"
      ]
     },
     "execution_count": 162,
     "metadata": {},
     "output_type": "execute_result"
    }
   ],
   "source": [
    "dt.fit(aknn_train_x , aknn_train_y)"
   ]
  },
  {
   "cell_type": "code",
   "execution_count": 90,
   "id": "c37935bf",
   "metadata": {},
   "outputs": [],
   "source": [
    "# from sklearn.model_selection import GridSearchCV"
   ]
  },
  {
   "cell_type": "code",
   "execution_count": 91,
   "id": "002c053b",
   "metadata": {},
   "outputs": [],
   "source": [
    "# search_dict = {'criterion':['gini','entropy'] , \n",
    "#                'max_depth':range(5,10) , \n",
    "#                 'min_samples_split':range(25,30)}"
   ]
  },
  {
   "cell_type": "code",
   "execution_count": 92,
   "id": "423c4a40",
   "metadata": {},
   "outputs": [],
   "source": [
    "# grid = GridSearchCV(dt , param_grid=search_dict)"
   ]
  },
  {
   "cell_type": "code",
   "execution_count": 94,
   "id": "0f6614c9",
   "metadata": {},
   "outputs": [
    {
     "data": {
      "text/plain": [
       "GridSearchCV(estimator=DecisionTreeClassifier(),\n",
       "             param_grid={'criterion': ['gini', 'entropy'],\n",
       "                         'max_depth': range(5, 10),\n",
       "                         'min_samples_split': range(25, 30)})"
      ]
     },
     "execution_count": 94,
     "metadata": {},
     "output_type": "execute_result"
    }
   ],
   "source": [
    "# grid.fit(aknn_train_x , aknn_train_y)"
   ]
  },
  {
   "cell_type": "code",
   "execution_count": 95,
   "id": "62b8dd51",
   "metadata": {},
   "outputs": [
    {
     "data": {
      "text/plain": [
       "{'criterion': 'gini', 'max_depth': 7, 'min_samples_split': 25}"
      ]
     },
     "execution_count": 95,
     "metadata": {},
     "output_type": "execute_result"
    }
   ],
   "source": [
    "# grid.best_params_ #'criterion': 'gini', 'max_depth': 7, 'min_samples_split': 25"
   ]
  },
  {
   "cell_type": "code",
   "execution_count": null,
   "id": "f9216452",
   "metadata": {},
   "outputs": [],
   "source": [
    "# pred_test_dt = grid.predict(aknn_test_x)"
   ]
  },
  {
   "cell_type": "code",
   "execution_count": 163,
   "id": "5e596cfe",
   "metadata": {},
   "outputs": [],
   "source": [
    "pred_test_dt = dt.predict(aknn_test_x)"
   ]
  },
  {
   "cell_type": "code",
   "execution_count": 164,
   "id": "5b6b0c67",
   "metadata": {},
   "outputs": [
    {
     "data": {
      "text/plain": [
       "array([[23233,  6505],\n",
       "       [ 1188,  8147]], dtype=int64)"
      ]
     },
     "execution_count": 164,
     "metadata": {},
     "output_type": "execute_result"
    }
   ],
   "source": [
    "# confusion matrix:-\n",
    "tab_dt = confusion_matrix(aknn_test_y ,pred_test_dt )\n",
    "tab_dt"
   ]
  },
  {
   "cell_type": "code",
   "execution_count": 165,
   "id": "d841e6aa",
   "metadata": {},
   "outputs": [
    {
     "data": {
      "text/html": [
       "<div>\n",
       "<style scoped>\n",
       "    .dataframe tbody tr th:only-of-type {\n",
       "        vertical-align: middle;\n",
       "    }\n",
       "\n",
       "    .dataframe tbody tr th {\n",
       "        vertical-align: top;\n",
       "    }\n",
       "\n",
       "    .dataframe thead th {\n",
       "        text-align: right;\n",
       "    }\n",
       "</style>\n",
       "<table border=\"1\" class=\"dataframe\">\n",
       "  <thead>\n",
       "    <tr style=\"text-align: right;\">\n",
       "      <th></th>\n",
       "      <th>&lt;=50</th>\n",
       "      <th>&gt;50</th>\n",
       "    </tr>\n",
       "  </thead>\n",
       "  <tbody>\n",
       "    <tr>\n",
       "      <th>&lt;=50</th>\n",
       "      <td>23233</td>\n",
       "      <td>6505</td>\n",
       "    </tr>\n",
       "    <tr>\n",
       "      <th>&gt;50</th>\n",
       "      <td>1188</td>\n",
       "      <td>8147</td>\n",
       "    </tr>\n",
       "  </tbody>\n",
       "</table>\n",
       "</div>"
      ],
      "text/plain": [
       "       <=50   >50\n",
       "<=50  23233  6505\n",
       ">50    1188  8147"
      ]
     },
     "execution_count": 165,
     "metadata": {},
     "output_type": "execute_result"
    }
   ],
   "source": [
    "tab_dt = pd.DataFrame (tab_dt)\n",
    "tab_dt.columns = ['<=50' , '>50']\n",
    "tab_dt.index   = ['<=50' , '>50']\n",
    "tab_dt"
   ]
  },
  {
   "cell_type": "code",
   "execution_count": 166,
   "id": "5065eb37",
   "metadata": {},
   "outputs": [
    {
     "name": "stdout",
     "output_type": "stream",
     "text": [
      "              precision    recall  f1-score   support\n",
      "\n",
      "           0       0.95      0.78      0.86     29738\n",
      "           1       0.56      0.87      0.68      9335\n",
      "\n",
      "    accuracy                           0.80     39073\n",
      "   macro avg       0.75      0.83      0.77     39073\n",
      "weighted avg       0.86      0.80      0.82     39073\n",
      "\n"
     ]
    }
   ],
   "source": [
    "# classification report of dt:=\n",
    "print(classification_report(aknn_test_y ,pred_test_dt ))"
   ]
  },
  {
   "cell_type": "code",
   "execution_count": 167,
   "id": "9ee15003",
   "metadata": {},
   "outputs": [
    {
     "data": {
      "text/plain": [
       "(48842, 9)"
      ]
     },
     "execution_count": 167,
     "metadata": {},
     "output_type": "execute_result"
    }
   ],
   "source": [
    "aknn.shape"
   ]
  },
  {
   "cell_type": "code",
   "execution_count": 157,
   "id": "56788436",
   "metadata": {},
   "outputs": [
    {
     "data": {
      "text/html": [
       "<div>\n",
       "<style scoped>\n",
       "    .dataframe tbody tr th:only-of-type {\n",
       "        vertical-align: middle;\n",
       "    }\n",
       "\n",
       "    .dataframe tbody tr th {\n",
       "        vertical-align: top;\n",
       "    }\n",
       "\n",
       "    .dataframe thead th {\n",
       "        text-align: right;\n",
       "    }\n",
       "</style>\n",
       "<table border=\"1\" class=\"dataframe\">\n",
       "  <thead>\n",
       "    <tr style=\"text-align: right;\">\n",
       "      <th></th>\n",
       "      <th>features</th>\n",
       "      <th>imp</th>\n",
       "    </tr>\n",
       "  </thead>\n",
       "  <tbody>\n",
       "    <tr>\n",
       "      <th>7</th>\n",
       "      <td>relationship</td>\n",
       "      <td>5.537113e-01</td>\n",
       "    </tr>\n",
       "    <tr>\n",
       "      <th>10</th>\n",
       "      <td>capital-gain</td>\n",
       "      <td>1.594550e-01</td>\n",
       "    </tr>\n",
       "    <tr>\n",
       "      <th>4</th>\n",
       "      <td>educational-num</td>\n",
       "      <td>9.381674e-02</td>\n",
       "    </tr>\n",
       "    <tr>\n",
       "      <th>3</th>\n",
       "      <td>education</td>\n",
       "      <td>6.997042e-02</td>\n",
       "    </tr>\n",
       "    <tr>\n",
       "      <th>0</th>\n",
       "      <td>age</td>\n",
       "      <td>5.172881e-02</td>\n",
       "    </tr>\n",
       "    <tr>\n",
       "      <th>12</th>\n",
       "      <td>hours-per-week</td>\n",
       "      <td>3.780749e-02</td>\n",
       "    </tr>\n",
       "    <tr>\n",
       "      <th>11</th>\n",
       "      <td>capital-loss</td>\n",
       "      <td>2.792785e-02</td>\n",
       "    </tr>\n",
       "    <tr>\n",
       "      <th>6</th>\n",
       "      <td>occupation</td>\n",
       "      <td>2.627310e-03</td>\n",
       "    </tr>\n",
       "    <tr>\n",
       "      <th>8</th>\n",
       "      <td>race</td>\n",
       "      <td>9.611144e-04</td>\n",
       "    </tr>\n",
       "    <tr>\n",
       "      <th>2</th>\n",
       "      <td>fnlwgt</td>\n",
       "      <td>9.380126e-04</td>\n",
       "    </tr>\n",
       "    <tr>\n",
       "      <th>13</th>\n",
       "      <td>native-country</td>\n",
       "      <td>6.508181e-04</td>\n",
       "    </tr>\n",
       "    <tr>\n",
       "      <th>5</th>\n",
       "      <td>marital-status</td>\n",
       "      <td>4.051492e-04</td>\n",
       "    </tr>\n",
       "    <tr>\n",
       "      <th>1</th>\n",
       "      <td>workclass</td>\n",
       "      <td>2.878068e-18</td>\n",
       "    </tr>\n",
       "    <tr>\n",
       "      <th>9</th>\n",
       "      <td>gender</td>\n",
       "      <td>2.841493e-18</td>\n",
       "    </tr>\n",
       "  </tbody>\n",
       "</table>\n",
       "</div>"
      ],
      "text/plain": [
       "           features           imp\n",
       "7      relationship  5.537113e-01\n",
       "10     capital-gain  1.594550e-01\n",
       "4   educational-num  9.381674e-02\n",
       "3         education  6.997042e-02\n",
       "0               age  5.172881e-02\n",
       "12   hours-per-week  3.780749e-02\n",
       "11     capital-loss  2.792785e-02\n",
       "6        occupation  2.627310e-03\n",
       "8              race  9.611144e-04\n",
       "2            fnlwgt  9.380126e-04\n",
       "13   native-country  6.508181e-04\n",
       "5    marital-status  4.051492e-04\n",
       "1         workclass  2.878068e-18\n",
       "9            gender  2.841493e-18"
      ]
     },
     "execution_count": 157,
     "metadata": {},
     "output_type": "execute_result"
    }
   ],
   "source": [
    "feat_imp_dt = pd.DataFrame()\n",
    "feat_imp_dt['features'] = aknn_train_x.columns\n",
    "feat_imp_dt['imp'] = dt.feature_importances_\n",
    "feat_imp_dt = feat_imp_dt.sort_values('imp',ascending=False)\n",
    "feat_imp_dt"
   ]
  },
  {
   "cell_type": "code",
   "execution_count": 158,
   "id": "87b733d9",
   "metadata": {},
   "outputs": [
    {
     "data": {
      "text/plain": [
       "['relationship',\n",
       " 'capital-gain',\n",
       " 'educational-num',\n",
       " 'education',\n",
       " 'age',\n",
       " 'hours-per-week',\n",
       " 'capital-loss',\n",
       " 'occupation',\n",
       " 'income']"
      ]
     },
     "execution_count": 158,
     "metadata": {},
     "output_type": "execute_result"
    }
   ],
   "source": [
    "l1 = list(feat_imp_dt.features[0:8])\n",
    "l1.append('income')\n",
    "l1"
   ]
  },
  {
   "cell_type": "code",
   "execution_count": null,
   "id": "6025deb3",
   "metadata": {},
   "outputs": [],
   "source": []
  },
  {
   "cell_type": "markdown",
   "id": "a33c85e6",
   "metadata": {},
   "source": [
    "##########################Random Forest#######################################################"
   ]
  },
  {
   "cell_type": "code",
   "execution_count": 168,
   "id": "439a717f",
   "metadata": {},
   "outputs": [],
   "source": [
    "aknn=pd.read_csv(r\"C:\\Users\\HARSH\\Dropbox\\PC\\Desktop\\python dataset\\adultKNN.csv\")"
   ]
  },
  {
   "cell_type": "code",
   "execution_count": 169,
   "id": "3d720ea9",
   "metadata": {},
   "outputs": [
    {
     "data": {
      "text/html": [
       "<div>\n",
       "<style scoped>\n",
       "    .dataframe tbody tr th:only-of-type {\n",
       "        vertical-align: middle;\n",
       "    }\n",
       "\n",
       "    .dataframe tbody tr th {\n",
       "        vertical-align: top;\n",
       "    }\n",
       "\n",
       "    .dataframe thead th {\n",
       "        text-align: right;\n",
       "    }\n",
       "</style>\n",
       "<table border=\"1\" class=\"dataframe\">\n",
       "  <thead>\n",
       "    <tr style=\"text-align: right;\">\n",
       "      <th></th>\n",
       "      <th>age</th>\n",
       "      <th>workclass</th>\n",
       "      <th>fnlwgt</th>\n",
       "      <th>education</th>\n",
       "      <th>educational-num</th>\n",
       "      <th>marital-status</th>\n",
       "      <th>occupation</th>\n",
       "      <th>relationship</th>\n",
       "      <th>race</th>\n",
       "      <th>gender</th>\n",
       "      <th>capital-gain</th>\n",
       "      <th>capital-loss</th>\n",
       "      <th>hours-per-week</th>\n",
       "      <th>native-country</th>\n",
       "      <th>income</th>\n",
       "    </tr>\n",
       "  </thead>\n",
       "  <tbody>\n",
       "    <tr>\n",
       "      <th>0</th>\n",
       "      <td>25</td>\n",
       "      <td>Private</td>\n",
       "      <td>226802</td>\n",
       "      <td>11th</td>\n",
       "      <td>7</td>\n",
       "      <td>Never-married</td>\n",
       "      <td>Machine-op-inspct</td>\n",
       "      <td>Own-child</td>\n",
       "      <td>Black</td>\n",
       "      <td>Male</td>\n",
       "      <td>0</td>\n",
       "      <td>0</td>\n",
       "      <td>40</td>\n",
       "      <td>United-States</td>\n",
       "      <td>&lt;=50K</td>\n",
       "    </tr>\n",
       "    <tr>\n",
       "      <th>1</th>\n",
       "      <td>38</td>\n",
       "      <td>Private</td>\n",
       "      <td>89814</td>\n",
       "      <td>HS-grad</td>\n",
       "      <td>9</td>\n",
       "      <td>Married-civ-spouse</td>\n",
       "      <td>Farming-fishing</td>\n",
       "      <td>Husband</td>\n",
       "      <td>White</td>\n",
       "      <td>Male</td>\n",
       "      <td>0</td>\n",
       "      <td>0</td>\n",
       "      <td>50</td>\n",
       "      <td>United-States</td>\n",
       "      <td>&lt;=50K</td>\n",
       "    </tr>\n",
       "    <tr>\n",
       "      <th>2</th>\n",
       "      <td>28</td>\n",
       "      <td>Local-gov</td>\n",
       "      <td>336951</td>\n",
       "      <td>Assoc-acdm</td>\n",
       "      <td>12</td>\n",
       "      <td>Married-civ-spouse</td>\n",
       "      <td>Protective-serv</td>\n",
       "      <td>Husband</td>\n",
       "      <td>White</td>\n",
       "      <td>Male</td>\n",
       "      <td>0</td>\n",
       "      <td>0</td>\n",
       "      <td>40</td>\n",
       "      <td>United-States</td>\n",
       "      <td>&gt;50K</td>\n",
       "    </tr>\n",
       "  </tbody>\n",
       "</table>\n",
       "</div>"
      ],
      "text/plain": [
       "   age  workclass  fnlwgt   education  educational-num      marital-status  \\\n",
       "0   25    Private  226802        11th                7       Never-married   \n",
       "1   38    Private   89814     HS-grad                9  Married-civ-spouse   \n",
       "2   28  Local-gov  336951  Assoc-acdm               12  Married-civ-spouse   \n",
       "\n",
       "          occupation relationship   race gender  capital-gain  capital-loss  \\\n",
       "0  Machine-op-inspct    Own-child  Black   Male             0             0   \n",
       "1    Farming-fishing      Husband  White   Male             0             0   \n",
       "2    Protective-serv      Husband  White   Male             0             0   \n",
       "\n",
       "   hours-per-week native-country income  \n",
       "0              40  United-States  <=50K  \n",
       "1              50  United-States  <=50K  \n",
       "2              40  United-States   >50K  "
      ]
     },
     "execution_count": 169,
     "metadata": {},
     "output_type": "execute_result"
    }
   ],
   "source": [
    "aknn.head(3)"
   ]
  },
  {
   "cell_type": "code",
   "execution_count": 170,
   "id": "8bb25a87",
   "metadata": {},
   "outputs": [],
   "source": [
    "aknn = aknn.replace({'?': np.nan}) "
   ]
  },
  {
   "cell_type": "code",
   "execution_count": 173,
   "id": "5b3ff3b9",
   "metadata": {},
   "outputs": [
    {
     "data": {
      "text/plain": [
       "Series([], dtype: int64)"
      ]
     },
     "execution_count": 173,
     "metadata": {},
     "output_type": "execute_result"
    }
   ],
   "source": [
    "aknn.isnull().sum()[aknn.isnull().sum() >0]"
   ]
  },
  {
   "cell_type": "code",
   "execution_count": 172,
   "id": "fdc55b5d",
   "metadata": {},
   "outputs": [],
   "source": [
    "\n",
    "\n",
    "aknn.occupation.fillna('other' , inplace = True)\n",
    "\n",
    "aknn.workclass.fillna('Private' , inplace = True)\n",
    "\n",
    "aknn['native-country'].fillna('United-States' , inplace = True)"
   ]
  },
  {
   "cell_type": "code",
   "execution_count": 174,
   "id": "99666b8f",
   "metadata": {},
   "outputs": [],
   "source": [
    "# replace all objects with numeric values:-   \n",
    "aknn.education.replace({'11th':7, 'HS-grad':9, 'Assoc-acdm':11, 'Some-college':10, '10th':6,\n",
    "       'Prof-school':14, '7th-8th':4, 'Bachelors':13, 'Masters':15, 'Doctorate':16,\n",
    "       '5th-6th':3, 'Assoc-voc':12, '9th':5, '12th':8, '1st-4th':2, 'Preschool':1} ,inplace = True)\n",
    "\n",
    "aknn.gender.replace({'Male':1, 'Female':0} ,inplace = True)\n",
    "aknn.income.replace({'<=50K':0, '>50K':1} ,inplace = True)"
   ]
  },
  {
   "cell_type": "code",
   "execution_count": 175,
   "id": "08f470be",
   "metadata": {},
   "outputs": [],
   "source": [
    "# replace with le fit:-\n",
    "\n",
    "import sklearn\n",
    "from sklearn.preprocessing import LabelEncoder\n",
    "le = LabelEncoder()\n",
    "\n",
    "aknn.workclass = le.fit_transform(aknn.workclass)\n",
    "aknn['marital-status'] = le.fit_transform(aknn['marital-status'])\n",
    "aknn.occupation = le.fit_transform(aknn.occupation)\n",
    "aknn.relationship = le.fit_transform(aknn.relationship)\n",
    "aknn.race = le.fit_transform(aknn.race)\n",
    "aknn['native-country']= le.fit_transform(aknn['native-country'])"
   ]
  },
  {
   "cell_type": "code",
   "execution_count": 176,
   "id": "93362f04",
   "metadata": {},
   "outputs": [
    {
     "data": {
      "text/plain": [
       "Index([], dtype='object')"
      ]
     },
     "execution_count": 176,
     "metadata": {},
     "output_type": "execute_result"
    }
   ],
   "source": [
    "# identify the objects:- \n",
    "aknn.select_dtypes(include='object').columns"
   ]
  },
  {
   "cell_type": "code",
   "execution_count": 223,
   "id": "3bdc4d34",
   "metadata": {},
   "outputs": [],
   "source": [
    "# feature imp line:-#### this line should be just before sampling stage \n",
    "aknn = aknn.loc[:,l1]"
   ]
  },
  {
   "cell_type": "markdown",
   "id": "e3cda684",
   "metadata": {},
   "source": [
    "#### Sampling in RF:--"
   ]
  },
  {
   "cell_type": "code",
   "execution_count": 224,
   "id": "8ca08708",
   "metadata": {},
   "outputs": [],
   "source": [
    "# sampling :--\n",
    "\n",
    "from sklearn.model_selection import train_test_split\n",
    "aknn_train , aknn_test  =train_test_split(aknn , test_size= .2 , random_state=123)\n",
    "\n",
    "# # oversampling stage:-\n",
    "# df1 = aknn_train[aknn_train.income == 1]\n",
    "# aknn_train = pd.concat([aknn_train , df1 , df1 ])\n",
    "\n",
    "aknn_train_x= aknn_train.iloc[ : , 0:-1] # it will take from starting to y\n",
    "aknn_train_y= aknn_train.iloc[ : , -1] \n",
    "\n",
    "aknn_test_x= aknn_train.iloc[ : , 0:-1] # it will take from starting to y\n",
    "aknn_test_y= aknn_train.iloc[ : , -1] "
   ]
  },
  {
   "cell_type": "code",
   "execution_count": 225,
   "id": "cb8120f9",
   "metadata": {},
   "outputs": [],
   "source": [
    "# model building in RF:---"
   ]
  },
  {
   "cell_type": "code",
   "execution_count": 226,
   "id": "9c077466",
   "metadata": {},
   "outputs": [],
   "source": [
    "from sklearn.ensemble import RandomForestClassifier\n",
    "rfc = RandomForestClassifier( class_weight='balanced')"
   ]
  },
  {
   "cell_type": "code",
   "execution_count": 227,
   "id": "15295402",
   "metadata": {},
   "outputs": [
    {
     "data": {
      "text/plain": [
       "RandomForestClassifier(class_weight='balanced')"
      ]
     },
     "execution_count": 227,
     "metadata": {},
     "output_type": "execute_result"
    }
   ],
   "source": [
    "rfc.fit(aknn_train_x , aknn_train_y)"
   ]
  },
  {
   "cell_type": "code",
   "execution_count": 228,
   "id": "be2e5328",
   "metadata": {},
   "outputs": [
    {
     "data": {
      "text/plain": [
       "array([0, 0, 0, ..., 1, 0, 1], dtype=int64)"
      ]
     },
     "execution_count": 228,
     "metadata": {},
     "output_type": "execute_result"
    }
   ],
   "source": [
    "pred_rfc = rfc.predict(aknn_test_x)\n",
    "pred_rfc"
   ]
  },
  {
   "cell_type": "code",
   "execution_count": 229,
   "id": "318b17e5",
   "metadata": {},
   "outputs": [
    {
     "data": {
      "text/plain": [
       "array([[26369,  3369],\n",
       "       [ 1005,  8330]], dtype=int64)"
      ]
     },
     "execution_count": 229,
     "metadata": {},
     "output_type": "execute_result"
    }
   ],
   "source": [
    "tab_rfc = confusion_matrix( aknn_test_y ,pred_rfc)\n",
    "tab_rfc"
   ]
  },
  {
   "cell_type": "code",
   "execution_count": 230,
   "id": "04c160c6",
   "metadata": {},
   "outputs": [
    {
     "data": {
      "text/html": [
       "<div>\n",
       "<style scoped>\n",
       "    .dataframe tbody tr th:only-of-type {\n",
       "        vertical-align: middle;\n",
       "    }\n",
       "\n",
       "    .dataframe tbody tr th {\n",
       "        vertical-align: top;\n",
       "    }\n",
       "\n",
       "    .dataframe thead th {\n",
       "        text-align: right;\n",
       "    }\n",
       "</style>\n",
       "<table border=\"1\" class=\"dataframe\">\n",
       "  <thead>\n",
       "    <tr style=\"text-align: right;\">\n",
       "      <th></th>\n",
       "      <th>&lt;=50</th>\n",
       "      <th>&gt;50</th>\n",
       "    </tr>\n",
       "  </thead>\n",
       "  <tbody>\n",
       "    <tr>\n",
       "      <th>&lt;=50</th>\n",
       "      <td>26369</td>\n",
       "      <td>3369</td>\n",
       "    </tr>\n",
       "    <tr>\n",
       "      <th>&gt;50</th>\n",
       "      <td>1005</td>\n",
       "      <td>8330</td>\n",
       "    </tr>\n",
       "  </tbody>\n",
       "</table>\n",
       "</div>"
      ],
      "text/plain": [
       "       <=50   >50\n",
       "<=50  26369  3369\n",
       ">50    1005  8330"
      ]
     },
     "execution_count": 230,
     "metadata": {},
     "output_type": "execute_result"
    }
   ],
   "source": [
    "tab_rfc = pd.DataFrame (tab_rfc)\n",
    "tab_rfc.columns = ['<=50' , '>50']\n",
    "tab_rfc.index   = ['<=50' , '>50']\n",
    "tab_rfc"
   ]
  },
  {
   "cell_type": "code",
   "execution_count": 231,
   "id": "268df7e5",
   "metadata": {},
   "outputs": [
    {
     "name": "stdout",
     "output_type": "stream",
     "text": [
      "              precision    recall  f1-score   support\n",
      "\n",
      "           0       0.96      0.89      0.92     29738\n",
      "           1       0.71      0.89      0.79      9335\n",
      "\n",
      "    accuracy                           0.89     39073\n",
      "   macro avg       0.84      0.89      0.86     39073\n",
      "weighted avg       0.90      0.89      0.89     39073\n",
      "\n"
     ]
    }
   ],
   "source": [
    "print(classification_report( aknn_test_y ,pred_rfc))"
   ]
  },
  {
   "cell_type": "code",
   "execution_count": null,
   "id": "6a04ebe4",
   "metadata": {},
   "outputs": [],
   "source": []
  },
  {
   "cell_type": "code",
   "execution_count": 221,
   "id": "cdcb99d1",
   "metadata": {},
   "outputs": [
    {
     "data": {
      "text/html": [
       "<div>\n",
       "<style scoped>\n",
       "    .dataframe tbody tr th:only-of-type {\n",
       "        vertical-align: middle;\n",
       "    }\n",
       "\n",
       "    .dataframe tbody tr th {\n",
       "        vertical-align: top;\n",
       "    }\n",
       "\n",
       "    .dataframe thead th {\n",
       "        text-align: right;\n",
       "    }\n",
       "</style>\n",
       "<table border=\"1\" class=\"dataframe\">\n",
       "  <thead>\n",
       "    <tr style=\"text-align: right;\">\n",
       "      <th></th>\n",
       "      <th>features</th>\n",
       "      <th>imp</th>\n",
       "    </tr>\n",
       "  </thead>\n",
       "  <tbody>\n",
       "    <tr>\n",
       "      <th>0</th>\n",
       "      <td>fnlwgt</td>\n",
       "      <td>0.668726</td>\n",
       "    </tr>\n",
       "    <tr>\n",
       "      <th>1</th>\n",
       "      <td>relationship</td>\n",
       "      <td>0.331274</td>\n",
       "    </tr>\n",
       "  </tbody>\n",
       "</table>\n",
       "</div>"
      ],
      "text/plain": [
       "       features       imp\n",
       "0        fnlwgt  0.668726\n",
       "1  relationship  0.331274"
      ]
     },
     "execution_count": 221,
     "metadata": {},
     "output_type": "execute_result"
    }
   ],
   "source": [
    "# feature imp on RFC :-\n",
    "feat_imp_rfc = pd.DataFrame()\n",
    "feat_imp_rfc['features'] = aknn_train_x.columns\n",
    "feat_imp_rfc['imp'] = rfc.feature_importances_\n",
    "feat_imp_rfc = feat_imp_rfc.sort_values('imp',ascending=False)\n",
    "feat_imp_rfc"
   ]
  },
  {
   "cell_type": "code",
   "execution_count": 222,
   "id": "dbdcf31e",
   "metadata": {},
   "outputs": [
    {
     "data": {
      "text/plain": [
       "['fnlwgt', 'income']"
      ]
     },
     "execution_count": 222,
     "metadata": {},
     "output_type": "execute_result"
    }
   ],
   "source": [
    "l1 = list(feat_imp_rfc.features[0:1])\n",
    "l1.append('income')\n",
    "l1"
   ]
  },
  {
   "cell_type": "code",
   "execution_count": null,
   "id": "b3276f77",
   "metadata": {},
   "outputs": [],
   "source": []
  },
  {
   "cell_type": "markdown",
   "id": "2b9efbf0",
   "metadata": {},
   "source": [
    "##########################################NAIVE BAYES MODEL ###########################################################"
   ]
  },
  {
   "cell_type": "code",
   "execution_count": 232,
   "id": "698d9fd0",
   "metadata": {},
   "outputs": [],
   "source": [
    "aknn=pd.read_csv(r\"C:\\Users\\HARSH\\Dropbox\\PC\\Desktop\\python dataset\\adultKNN.csv\")"
   ]
  },
  {
   "cell_type": "code",
   "execution_count": 233,
   "id": "5bdac3b0",
   "metadata": {},
   "outputs": [
    {
     "data": {
      "text/html": [
       "<div>\n",
       "<style scoped>\n",
       "    .dataframe tbody tr th:only-of-type {\n",
       "        vertical-align: middle;\n",
       "    }\n",
       "\n",
       "    .dataframe tbody tr th {\n",
       "        vertical-align: top;\n",
       "    }\n",
       "\n",
       "    .dataframe thead th {\n",
       "        text-align: right;\n",
       "    }\n",
       "</style>\n",
       "<table border=\"1\" class=\"dataframe\">\n",
       "  <thead>\n",
       "    <tr style=\"text-align: right;\">\n",
       "      <th></th>\n",
       "      <th>age</th>\n",
       "      <th>workclass</th>\n",
       "      <th>fnlwgt</th>\n",
       "      <th>education</th>\n",
       "      <th>educational-num</th>\n",
       "      <th>marital-status</th>\n",
       "      <th>occupation</th>\n",
       "      <th>relationship</th>\n",
       "      <th>race</th>\n",
       "      <th>gender</th>\n",
       "      <th>capital-gain</th>\n",
       "      <th>capital-loss</th>\n",
       "      <th>hours-per-week</th>\n",
       "      <th>native-country</th>\n",
       "      <th>income</th>\n",
       "    </tr>\n",
       "  </thead>\n",
       "  <tbody>\n",
       "    <tr>\n",
       "      <th>0</th>\n",
       "      <td>25</td>\n",
       "      <td>Private</td>\n",
       "      <td>226802</td>\n",
       "      <td>11th</td>\n",
       "      <td>7</td>\n",
       "      <td>Never-married</td>\n",
       "      <td>Machine-op-inspct</td>\n",
       "      <td>Own-child</td>\n",
       "      <td>Black</td>\n",
       "      <td>Male</td>\n",
       "      <td>0</td>\n",
       "      <td>0</td>\n",
       "      <td>40</td>\n",
       "      <td>United-States</td>\n",
       "      <td>&lt;=50K</td>\n",
       "    </tr>\n",
       "    <tr>\n",
       "      <th>1</th>\n",
       "      <td>38</td>\n",
       "      <td>Private</td>\n",
       "      <td>89814</td>\n",
       "      <td>HS-grad</td>\n",
       "      <td>9</td>\n",
       "      <td>Married-civ-spouse</td>\n",
       "      <td>Farming-fishing</td>\n",
       "      <td>Husband</td>\n",
       "      <td>White</td>\n",
       "      <td>Male</td>\n",
       "      <td>0</td>\n",
       "      <td>0</td>\n",
       "      <td>50</td>\n",
       "      <td>United-States</td>\n",
       "      <td>&lt;=50K</td>\n",
       "    </tr>\n",
       "    <tr>\n",
       "      <th>2</th>\n",
       "      <td>28</td>\n",
       "      <td>Local-gov</td>\n",
       "      <td>336951</td>\n",
       "      <td>Assoc-acdm</td>\n",
       "      <td>12</td>\n",
       "      <td>Married-civ-spouse</td>\n",
       "      <td>Protective-serv</td>\n",
       "      <td>Husband</td>\n",
       "      <td>White</td>\n",
       "      <td>Male</td>\n",
       "      <td>0</td>\n",
       "      <td>0</td>\n",
       "      <td>40</td>\n",
       "      <td>United-States</td>\n",
       "      <td>&gt;50K</td>\n",
       "    </tr>\n",
       "  </tbody>\n",
       "</table>\n",
       "</div>"
      ],
      "text/plain": [
       "   age  workclass  fnlwgt   education  educational-num      marital-status  \\\n",
       "0   25    Private  226802        11th                7       Never-married   \n",
       "1   38    Private   89814     HS-grad                9  Married-civ-spouse   \n",
       "2   28  Local-gov  336951  Assoc-acdm               12  Married-civ-spouse   \n",
       "\n",
       "          occupation relationship   race gender  capital-gain  capital-loss  \\\n",
       "0  Machine-op-inspct    Own-child  Black   Male             0             0   \n",
       "1    Farming-fishing      Husband  White   Male             0             0   \n",
       "2    Protective-serv      Husband  White   Male             0             0   \n",
       "\n",
       "   hours-per-week native-country income  \n",
       "0              40  United-States  <=50K  \n",
       "1              50  United-States  <=50K  \n",
       "2              40  United-States   >50K  "
      ]
     },
     "execution_count": 233,
     "metadata": {},
     "output_type": "execute_result"
    }
   ],
   "source": [
    "aknn.head(3)"
   ]
  },
  {
   "cell_type": "code",
   "execution_count": 234,
   "id": "ad80d107",
   "metadata": {},
   "outputs": [],
   "source": [
    "aknn = aknn.replace({'?': np.nan}) "
   ]
  },
  {
   "cell_type": "code",
   "execution_count": 237,
   "id": "dc173c04",
   "metadata": {},
   "outputs": [
    {
     "data": {
      "text/plain": [
       "Series([], dtype: int64)"
      ]
     },
     "execution_count": 237,
     "metadata": {},
     "output_type": "execute_result"
    }
   ],
   "source": [
    "aknn.isnull().sum()[aknn.isnull().sum() >0]"
   ]
  },
  {
   "cell_type": "code",
   "execution_count": 236,
   "id": "924a8d63",
   "metadata": {},
   "outputs": [],
   "source": [
    "\n",
    "\n",
    "aknn.occupation.fillna('other' , inplace = True)\n",
    "\n",
    "aknn.workclass.fillna('Private' , inplace = True)\n",
    "\n",
    "aknn['native-country'].fillna('United-States' , inplace = True)"
   ]
  },
  {
   "cell_type": "code",
   "execution_count": 238,
   "id": "a611a356",
   "metadata": {},
   "outputs": [],
   "source": [
    "# replace all objects with numeric values:-   \n",
    "aknn.education.replace({'11th':7, 'HS-grad':9, 'Assoc-acdm':11, 'Some-college':10, '10th':6,\n",
    "       'Prof-school':14, '7th-8th':4, 'Bachelors':13, 'Masters':15, 'Doctorate':16,\n",
    "       '5th-6th':3, 'Assoc-voc':12, '9th':5, '12th':8, '1st-4th':2, 'Preschool':1} ,inplace = True)\n",
    "\n",
    "aknn.gender.replace({'Male':1, 'Female':0} ,inplace = True)\n",
    "aknn.income.replace({'<=50K':0, '>50K':1} ,inplace = True)"
   ]
  },
  {
   "cell_type": "code",
   "execution_count": 239,
   "id": "579dcd15",
   "metadata": {},
   "outputs": [],
   "source": [
    "# replace with le fit:-\n",
    "\n",
    "import sklearn\n",
    "from sklearn.preprocessing import LabelEncoder\n",
    "le = LabelEncoder()\n",
    "\n",
    "aknn.workclass = le.fit_transform(aknn.workclass)\n",
    "aknn['marital-status'] = le.fit_transform(aknn['marital-status'])\n",
    "aknn.occupation = le.fit_transform(aknn.occupation)\n",
    "aknn.relationship = le.fit_transform(aknn.relationship)\n",
    "aknn.race = le.fit_transform(aknn.race)\n",
    "aknn['native-country']= le.fit_transform(aknn['native-country'])"
   ]
  },
  {
   "cell_type": "code",
   "execution_count": 240,
   "id": "277400e7",
   "metadata": {},
   "outputs": [
    {
     "data": {
      "text/plain": [
       "Index([], dtype='object')"
      ]
     },
     "execution_count": 240,
     "metadata": {},
     "output_type": "execute_result"
    }
   ],
   "source": [
    "# identify the objects:- \n",
    "aknn.select_dtypes(include='object').columns"
   ]
  },
  {
   "cell_type": "markdown",
   "id": "d94c0de8",
   "metadata": {},
   "source": [
    "#### Sampling stage in Naive Bayes:--"
   ]
  },
  {
   "cell_type": "code",
   "execution_count": 241,
   "id": "e6b18c69",
   "metadata": {},
   "outputs": [],
   "source": [
    "# sampling :--\n",
    "\n",
    "from sklearn.model_selection import train_test_split\n",
    "aknn_train , aknn_test  =train_test_split(aknn , test_size= .2 , random_state=123)\n",
    "\n",
    "# # oversampling stage:-\n",
    "# df1 = aknn_train[aknn_train.income == 1]\n",
    "# aknn_train = pd.concat([aknn_train , df1 , df1 ])\n",
    "\n",
    "aknn_train_x= aknn_train.iloc[ : , 0:-1] # it will take from starting to y\n",
    "aknn_train_y= aknn_train.iloc[ : , -1] \n",
    "\n",
    "aknn_test_x= aknn_train.iloc[ : , 0:-1] # it will take from starting to y\n",
    "aknn_test_y= aknn_train.iloc[ : , -1] "
   ]
  },
  {
   "cell_type": "code",
   "execution_count": 242,
   "id": "d0d25e7d",
   "metadata": {},
   "outputs": [],
   "source": [
    "# model building in Naive Bayes:--"
   ]
  },
  {
   "cell_type": "code",
   "execution_count": 243,
   "id": "ea0ad2e0",
   "metadata": {},
   "outputs": [],
   "source": [
    "from sklearn.naive_bayes import MultinomialNB"
   ]
  },
  {
   "cell_type": "code",
   "execution_count": 244,
   "id": "adcbb08d",
   "metadata": {},
   "outputs": [
    {
     "data": {
      "text/plain": [
       "MultinomialNB()"
      ]
     },
     "execution_count": 244,
     "metadata": {},
     "output_type": "execute_result"
    }
   ],
   "source": [
    "nb = MultinomialNB()\n",
    "nb.fit(aknn_train_x , aknn_train_y)"
   ]
  },
  {
   "cell_type": "code",
   "execution_count": 245,
   "id": "b651369e",
   "metadata": {},
   "outputs": [],
   "source": [
    "nb_pred = nb.predict(aknn_test_x)"
   ]
  },
  {
   "cell_type": "code",
   "execution_count": 247,
   "id": "2856cf3d",
   "metadata": {},
   "outputs": [
    {
     "data": {
      "text/plain": [
       "array([[28433,  1305],\n",
       "       [ 7135,  2200]], dtype=int64)"
      ]
     },
     "execution_count": 247,
     "metadata": {},
     "output_type": "execute_result"
    }
   ],
   "source": [
    "tab_nb = confusion_matrix(aknn_test_y ,nb_pred)\n",
    "tab_nb"
   ]
  },
  {
   "cell_type": "code",
   "execution_count": 248,
   "id": "ec854885",
   "metadata": {},
   "outputs": [
    {
     "data": {
      "text/html": [
       "<div>\n",
       "<style scoped>\n",
       "    .dataframe tbody tr th:only-of-type {\n",
       "        vertical-align: middle;\n",
       "    }\n",
       "\n",
       "    .dataframe tbody tr th {\n",
       "        vertical-align: top;\n",
       "    }\n",
       "\n",
       "    .dataframe thead th {\n",
       "        text-align: right;\n",
       "    }\n",
       "</style>\n",
       "<table border=\"1\" class=\"dataframe\">\n",
       "  <thead>\n",
       "    <tr style=\"text-align: right;\">\n",
       "      <th></th>\n",
       "      <th>&lt;=50</th>\n",
       "      <th>&gt;50</th>\n",
       "    </tr>\n",
       "  </thead>\n",
       "  <tbody>\n",
       "    <tr>\n",
       "      <th>&lt;=50</th>\n",
       "      <td>28433</td>\n",
       "      <td>1305</td>\n",
       "    </tr>\n",
       "    <tr>\n",
       "      <th>&gt;50</th>\n",
       "      <td>7135</td>\n",
       "      <td>2200</td>\n",
       "    </tr>\n",
       "  </tbody>\n",
       "</table>\n",
       "</div>"
      ],
      "text/plain": [
       "       <=50   >50\n",
       "<=50  28433  1305\n",
       ">50    7135  2200"
      ]
     },
     "execution_count": 248,
     "metadata": {},
     "output_type": "execute_result"
    }
   ],
   "source": [
    "tab_nb = pd.DataFrame (tab_nb)\n",
    "tab_nb.columns = ['<=50' , '>50']\n",
    "tab_nb.index   = ['<=50' , '>50']\n",
    "tab_nb"
   ]
  },
  {
   "cell_type": "code",
   "execution_count": 249,
   "id": "e43a43bc",
   "metadata": {},
   "outputs": [
    {
     "name": "stdout",
     "output_type": "stream",
     "text": [
      "              precision    recall  f1-score   support\n",
      "\n",
      "           0       0.80      0.96      0.87     29738\n",
      "           1       0.63      0.24      0.34      9335\n",
      "\n",
      "    accuracy                           0.78     39073\n",
      "   macro avg       0.71      0.60      0.61     39073\n",
      "weighted avg       0.76      0.78      0.74     39073\n",
      "\n"
     ]
    }
   ],
   "source": [
    "print(classification_report(aknn_test_y , nb_pred))"
   ]
  },
  {
   "cell_type": "code",
   "execution_count": null,
   "id": "5b94acd9",
   "metadata": {},
   "outputs": [],
   "source": []
  },
  {
   "cell_type": "markdown",
   "id": "84dc1297",
   "metadata": {},
   "source": [
    "#################################### KNN Model Building#################################################"
   ]
  },
  {
   "cell_type": "code",
   "execution_count": 526,
   "id": "cf3c7d44",
   "metadata": {},
   "outputs": [],
   "source": [
    "aknn=pd.read_csv(r\"C:\\Users\\HARSH\\Dropbox\\PC\\Desktop\\python dataset\\adultKNN.csv\")"
   ]
  },
  {
   "cell_type": "code",
   "execution_count": 527,
   "id": "71c989d5",
   "metadata": {},
   "outputs": [
    {
     "data": {
      "text/html": [
       "<div>\n",
       "<style scoped>\n",
       "    .dataframe tbody tr th:only-of-type {\n",
       "        vertical-align: middle;\n",
       "    }\n",
       "\n",
       "    .dataframe tbody tr th {\n",
       "        vertical-align: top;\n",
       "    }\n",
       "\n",
       "    .dataframe thead th {\n",
       "        text-align: right;\n",
       "    }\n",
       "</style>\n",
       "<table border=\"1\" class=\"dataframe\">\n",
       "  <thead>\n",
       "    <tr style=\"text-align: right;\">\n",
       "      <th></th>\n",
       "      <th>age</th>\n",
       "      <th>workclass</th>\n",
       "      <th>fnlwgt</th>\n",
       "      <th>education</th>\n",
       "      <th>educational-num</th>\n",
       "      <th>marital-status</th>\n",
       "      <th>occupation</th>\n",
       "      <th>relationship</th>\n",
       "      <th>race</th>\n",
       "      <th>gender</th>\n",
       "      <th>capital-gain</th>\n",
       "      <th>capital-loss</th>\n",
       "      <th>hours-per-week</th>\n",
       "      <th>native-country</th>\n",
       "      <th>income</th>\n",
       "    </tr>\n",
       "  </thead>\n",
       "  <tbody>\n",
       "    <tr>\n",
       "      <th>0</th>\n",
       "      <td>25</td>\n",
       "      <td>Private</td>\n",
       "      <td>226802</td>\n",
       "      <td>11th</td>\n",
       "      <td>7</td>\n",
       "      <td>Never-married</td>\n",
       "      <td>Machine-op-inspct</td>\n",
       "      <td>Own-child</td>\n",
       "      <td>Black</td>\n",
       "      <td>Male</td>\n",
       "      <td>0</td>\n",
       "      <td>0</td>\n",
       "      <td>40</td>\n",
       "      <td>United-States</td>\n",
       "      <td>&lt;=50K</td>\n",
       "    </tr>\n",
       "    <tr>\n",
       "      <th>1</th>\n",
       "      <td>38</td>\n",
       "      <td>Private</td>\n",
       "      <td>89814</td>\n",
       "      <td>HS-grad</td>\n",
       "      <td>9</td>\n",
       "      <td>Married-civ-spouse</td>\n",
       "      <td>Farming-fishing</td>\n",
       "      <td>Husband</td>\n",
       "      <td>White</td>\n",
       "      <td>Male</td>\n",
       "      <td>0</td>\n",
       "      <td>0</td>\n",
       "      <td>50</td>\n",
       "      <td>United-States</td>\n",
       "      <td>&lt;=50K</td>\n",
       "    </tr>\n",
       "    <tr>\n",
       "      <th>2</th>\n",
       "      <td>28</td>\n",
       "      <td>Local-gov</td>\n",
       "      <td>336951</td>\n",
       "      <td>Assoc-acdm</td>\n",
       "      <td>12</td>\n",
       "      <td>Married-civ-spouse</td>\n",
       "      <td>Protective-serv</td>\n",
       "      <td>Husband</td>\n",
       "      <td>White</td>\n",
       "      <td>Male</td>\n",
       "      <td>0</td>\n",
       "      <td>0</td>\n",
       "      <td>40</td>\n",
       "      <td>United-States</td>\n",
       "      <td>&gt;50K</td>\n",
       "    </tr>\n",
       "  </tbody>\n",
       "</table>\n",
       "</div>"
      ],
      "text/plain": [
       "   age  workclass  fnlwgt   education  educational-num      marital-status  \\\n",
       "0   25    Private  226802        11th                7       Never-married   \n",
       "1   38    Private   89814     HS-grad                9  Married-civ-spouse   \n",
       "2   28  Local-gov  336951  Assoc-acdm               12  Married-civ-spouse   \n",
       "\n",
       "          occupation relationship   race gender  capital-gain  capital-loss  \\\n",
       "0  Machine-op-inspct    Own-child  Black   Male             0             0   \n",
       "1    Farming-fishing      Husband  White   Male             0             0   \n",
       "2    Protective-serv      Husband  White   Male             0             0   \n",
       "\n",
       "   hours-per-week native-country income  \n",
       "0              40  United-States  <=50K  \n",
       "1              50  United-States  <=50K  \n",
       "2              40  United-States   >50K  "
      ]
     },
     "execution_count": 527,
     "metadata": {},
     "output_type": "execute_result"
    }
   ],
   "source": [
    "aknn.head(3)"
   ]
  },
  {
   "cell_type": "code",
   "execution_count": 528,
   "id": "11a90c93",
   "metadata": {},
   "outputs": [],
   "source": [
    "aknn = aknn.replace({'?': np.nan}) "
   ]
  },
  {
   "cell_type": "code",
   "execution_count": 529,
   "id": "59e887c5",
   "metadata": {},
   "outputs": [
    {
     "data": {
      "text/plain": [
       "workclass         2799\n",
       "occupation        2809\n",
       "native-country     857\n",
       "dtype: int64"
      ]
     },
     "execution_count": 529,
     "metadata": {},
     "output_type": "execute_result"
    }
   ],
   "source": [
    "aknn.isnull().sum()[aknn.isnull().sum() >0]"
   ]
  },
  {
   "cell_type": "code",
   "execution_count": 530,
   "id": "00f2d463",
   "metadata": {},
   "outputs": [],
   "source": [
    "\n",
    "\n",
    "aknn.occupation.fillna('other' , inplace = True)\n",
    "\n",
    "aknn.workclass.fillna('Private' , inplace = True)\n",
    "\n",
    "aknn['native-country'].fillna('United-States' , inplace = True)"
   ]
  },
  {
   "cell_type": "code",
   "execution_count": 531,
   "id": "fa07b04d",
   "metadata": {},
   "outputs": [],
   "source": [
    "# replace all objects with numeric values:-   \n",
    "aknn.education.replace({'11th':7, 'HS-grad':9, 'Assoc-acdm':11, 'Some-college':10, '10th':6,\n",
    "       'Prof-school':14, '7th-8th':4, 'Bachelors':13, 'Masters':15, 'Doctorate':16,\n",
    "       '5th-6th':3, 'Assoc-voc':12, '9th':5, '12th':8, '1st-4th':2, 'Preschool':1} ,inplace = True)\n",
    "\n",
    "aknn.gender.replace({'Male':1, 'Female':0} ,inplace = True)\n",
    "aknn.income.replace({'<=50K':0, '>50K':1} ,inplace = True)"
   ]
  },
  {
   "cell_type": "code",
   "execution_count": 532,
   "id": "c82600a3",
   "metadata": {},
   "outputs": [],
   "source": [
    "# replace with le fit:-\n",
    "\n",
    "import sklearn\n",
    "from sklearn.preprocessing import LabelEncoder\n",
    "le = LabelEncoder()\n",
    "\n",
    "aknn.workclass = le.fit_transform(aknn.workclass)\n",
    "aknn['marital-status'] = le.fit_transform(aknn['marital-status'])\n",
    "aknn.occupation = le.fit_transform(aknn.occupation)\n",
    "aknn.relationship = le.fit_transform(aknn.relationship)\n",
    "aknn.race = le.fit_transform(aknn.race)\n",
    "aknn['native-country']= le.fit_transform(aknn['native-country'])"
   ]
  },
  {
   "cell_type": "code",
   "execution_count": 533,
   "id": "4c8fe22d",
   "metadata": {},
   "outputs": [
    {
     "data": {
      "text/plain": [
       "Index([], dtype='object')"
      ]
     },
     "execution_count": 533,
     "metadata": {},
     "output_type": "execute_result"
    }
   ],
   "source": [
    "# identify the objects:- \n",
    "aknn.select_dtypes(include='object').columns"
   ]
  },
  {
   "cell_type": "markdown",
   "id": "6e05fd0d",
   "metadata": {},
   "source": [
    "#### sampling stage in KNN model building:--"
   ]
  },
  {
   "cell_type": "code",
   "execution_count": 534,
   "id": "edd806b9",
   "metadata": {},
   "outputs": [],
   "source": [
    "# sampling :--\n",
    "\n",
    "from sklearn.model_selection import train_test_split\n",
    "aknn_train , aknn_test  =train_test_split(aknn , test_size= .2 , random_state=123)\n",
    "\n",
    "# oversampling stage:-\n",
    "df1 = aknn_train[aknn_train.income == 1]\n",
    "aknn_train = pd.concat([aknn_train , df1 ,df1 ])\n",
    "\n",
    "aknn_train_x= aknn_train.iloc[ : , 0:-1] # it will take from starting to y\n",
    "aknn_train_y= aknn_train.iloc[ : , -1] \n",
    "\n",
    "aknn_test_x= aknn_train.iloc[ : , 0:-1] # it will take from starting to y\n",
    "aknn_test_y= aknn_train.iloc[ : , -1] "
   ]
  },
  {
   "cell_type": "markdown",
   "id": "93c3e4ee",
   "metadata": {},
   "source": [
    "#### model building in KNN:--"
   ]
  },
  {
   "cell_type": "code",
   "execution_count": 535,
   "id": "579d0f96",
   "metadata": {},
   "outputs": [],
   "source": [
    "from sklearn.neighbors import KNeighborsClassifier"
   ]
  },
  {
   "cell_type": "code",
   "execution_count": 536,
   "id": "e019ad6d",
   "metadata": {},
   "outputs": [],
   "source": [
    "knn = KNeighborsClassifier(n_neighbors=65)"
   ]
  },
  {
   "cell_type": "code",
   "execution_count": 537,
   "id": "440ba6a7",
   "metadata": {},
   "outputs": [
    {
     "data": {
      "text/plain": [
       "KNeighborsClassifier(n_neighbors=65)"
      ]
     },
     "execution_count": 537,
     "metadata": {},
     "output_type": "execute_result"
    }
   ],
   "source": [
    "knn.fit(aknn_train_x,aknn_train_y)"
   ]
  },
  {
   "cell_type": "code",
   "execution_count": 538,
   "id": "f0ad1c22",
   "metadata": {},
   "outputs": [],
   "source": [
    "pred_knn = knn.predict(aknn_test_x)"
   ]
  },
  {
   "cell_type": "code",
   "execution_count": 539,
   "id": "03ac45f7",
   "metadata": {},
   "outputs": [],
   "source": [
    "from sklearn.metrics import confusion_matrix , classification_report"
   ]
  },
  {
   "cell_type": "code",
   "execution_count": 540,
   "id": "5c6e4c50",
   "metadata": {},
   "outputs": [
    {
     "data": {
      "text/plain": [
       "array([[23317,  6421],\n",
       "       [13584, 14421]], dtype=int64)"
      ]
     },
     "execution_count": 540,
     "metadata": {},
     "output_type": "execute_result"
    }
   ],
   "source": [
    "tab_knn = confusion_matrix(aknn_test_y,pred_knn)\n",
    "tab_knn"
   ]
  },
  {
   "cell_type": "code",
   "execution_count": 541,
   "id": "467f11fe",
   "metadata": {},
   "outputs": [
    {
     "data": {
      "text/html": [
       "<div>\n",
       "<style scoped>\n",
       "    .dataframe tbody tr th:only-of-type {\n",
       "        vertical-align: middle;\n",
       "    }\n",
       "\n",
       "    .dataframe tbody tr th {\n",
       "        vertical-align: top;\n",
       "    }\n",
       "\n",
       "    .dataframe thead th {\n",
       "        text-align: right;\n",
       "    }\n",
       "</style>\n",
       "<table border=\"1\" class=\"dataframe\">\n",
       "  <thead>\n",
       "    <tr style=\"text-align: right;\">\n",
       "      <th></th>\n",
       "      <th>&lt;=50</th>\n",
       "      <th>&gt;50</th>\n",
       "    </tr>\n",
       "  </thead>\n",
       "  <tbody>\n",
       "    <tr>\n",
       "      <th>&lt;=50</th>\n",
       "      <td>23317</td>\n",
       "      <td>6421</td>\n",
       "    </tr>\n",
       "    <tr>\n",
       "      <th>&gt;50</th>\n",
       "      <td>13584</td>\n",
       "      <td>14421</td>\n",
       "    </tr>\n",
       "  </tbody>\n",
       "</table>\n",
       "</div>"
      ],
      "text/plain": [
       "       <=50    >50\n",
       "<=50  23317   6421\n",
       ">50   13584  14421"
      ]
     },
     "execution_count": 541,
     "metadata": {},
     "output_type": "execute_result"
    }
   ],
   "source": [
    "tab_knn = pd.DataFrame (tab_knn)\n",
    "tab_knn.columns = ['<=50' , '>50']\n",
    "tab_knn.index   = ['<=50' , '>50']\n",
    "tab_knn"
   ]
  },
  {
   "cell_type": "code",
   "execution_count": 542,
   "id": "5599fdaa",
   "metadata": {},
   "outputs": [
    {
     "data": {
      "text/plain": [
       "0    37155\n",
       "1    11687\n",
       "Name: income, dtype: int64"
      ]
     },
     "execution_count": 542,
     "metadata": {},
     "output_type": "execute_result"
    }
   ],
   "source": [
    "aknn.income.value_counts()"
   ]
  },
  {
   "cell_type": "code",
   "execution_count": 543,
   "id": "9d687877",
   "metadata": {},
   "outputs": [
    {
     "name": "stdout",
     "output_type": "stream",
     "text": [
      "              precision    recall  f1-score   support\n",
      "\n",
      "           0       0.63      0.78      0.70     29738\n",
      "           1       0.69      0.51      0.59     28005\n",
      "\n",
      "    accuracy                           0.65     57743\n",
      "   macro avg       0.66      0.65      0.65     57743\n",
      "weighted avg       0.66      0.65      0.65     57743\n",
      "\n"
     ]
    }
   ],
   "source": [
    "print(classification_report(aknn_test_y,pred_knn))"
   ]
  },
  {
   "cell_type": "code",
   "execution_count": null,
   "id": "ea5babae",
   "metadata": {},
   "outputs": [],
   "source": []
  },
  {
   "cell_type": "markdown",
   "id": "87807634",
   "metadata": {},
   "source": [
    "#### code for the graph:"
   ]
  },
  {
   "cell_type": "code",
   "execution_count": 376,
   "id": "03c4b05f",
   "metadata": {},
   "outputs": [],
   "source": [
    "acc = []\n",
    "for k in range(1,101):\n",
    "    knn = KNeighborsClassifier(n_neighbors=k)\n",
    "    knn.fit(aknn_train_x , aknn_train_y)\n",
    "    pred_knn = knn.predict(aknn_test_x)\n",
    "    tab_knn = confusion_matrix(aknn_test_y, pred_knn)\n",
    "    acc.append(tab_knn.diagonal().sum()/ tab_knn.sum())\n",
    "#     print(k)\n",
    "#     print('------------------------------------------')"
   ]
  },
  {
   "cell_type": "code",
   "execution_count": null,
   "id": "c6b42729",
   "metadata": {},
   "outputs": [],
   "source": []
  },
  {
   "cell_type": "code",
   "execution_count": 377,
   "id": "e5b3e73c",
   "metadata": {},
   "outputs": [],
   "source": [
    "import matplotlib.pyplot as plt"
   ]
  },
  {
   "cell_type": "code",
   "execution_count": 378,
   "id": "0c1901d2",
   "metadata": {},
   "outputs": [],
   "source": [
    "l1 = list(range(1,101))"
   ]
  },
  {
   "cell_type": "code",
   "execution_count": 379,
   "id": "e5a64fcc",
   "metadata": {},
   "outputs": [
    {
     "data": {
      "text/plain": [
       "Text(0, 0.5, 'Accuracy')"
      ]
     },
     "execution_count": 379,
     "metadata": {},
     "output_type": "execute_result"
    },
    {
     "data": {
      "image/png": "[encoded data removed]",
      "text/plain": [
       "<Figure size 720x720 with 1 Axes>"
      ]
     },
     "metadata": {
      "needs_background": "light"
     },
     "output_type": "display_data"
    }
   ],
   "source": [
    "plt.figure(figsize=(10,10))\n",
    "plt.plot(l1 , acc , marker = '.')\n",
    "plt.grid(linestyle='-.')\n",
    "plt.xlabel('k_value')\n",
    "plt.ylabel('Accuracy')"
   ]
  },
  {
   "cell_type": "code",
   "execution_count": null,
   "id": "b1c39424",
   "metadata": {},
   "outputs": [],
   "source": []
  },
  {
   "cell_type": "code",
   "execution_count": 290,
   "id": "67bf4250",
   "metadata": {},
   "outputs": [],
   "source": [
    "# here we can also do class imbalance"
   ]
  },
  {
   "cell_type": "code",
   "execution_count": 293,
   "id": "ed9d4a6e",
   "metadata": {},
   "outputs": [
    {
     "data": {
      "text/plain": [
       "0    37155\n",
       "1    11687\n",
       "Name: income, dtype: int64"
      ]
     },
     "execution_count": 293,
     "metadata": {},
     "output_type": "execute_result"
    }
   ],
   "source": [
    "aknn.income.value_counts()"
   ]
  },
  {
   "cell_type": "code",
   "execution_count": 300,
   "id": "567e157c",
   "metadata": {},
   "outputs": [
    {
     "data": {
      "text/plain": [
       "0    37155\n",
       "1    11687\n",
       "Name: income, dtype: int64"
      ]
     },
     "execution_count": 300,
     "metadata": {},
     "output_type": "execute_result"
    }
   ],
   "source": [
    "aknn.income.value_counts()"
   ]
  },
  {
   "cell_type": "code",
   "execution_count": null,
   "id": "96e25c5e",
   "metadata": {},
   "outputs": [],
   "source": []
  },
  {
   "cell_type": "code",
   "execution_count": null,
   "id": "a7e84dd4",
   "metadata": {},
   "outputs": [],
   "source": []
  },
  {
   "cell_type": "code",
   "execution_count": null,
   "id": "db94b364",
   "metadata": {},
   "outputs": [],
   "source": []
  },
  {
   "cell_type": "code",
   "execution_count": null,
   "id": "4f7a8642",
   "metadata": {},
   "outputs": [],
   "source": []
  },
  {
   "cell_type": "code",
   "execution_count": null,
   "id": "5c0f9acf",
   "metadata": {},
   "outputs": [],
   "source": []
  },
  {
   "cell_type": "code",
   "execution_count": null,
   "id": "513441aa",
   "metadata": {},
   "outputs": [],
   "source": []
  },
  {
   "cell_type": "code",
   "execution_count": null,
   "id": "290d6a8f",
   "metadata": {},
   "outputs": [],
   "source": []
  },
  {
   "cell_type": "code",
   "execution_count": null,
   "id": "46be3817",
   "metadata": {},
   "outputs": [],
   "source": []
  },
  {
   "cell_type": "code",
   "execution_count": null,
   "id": "a27f4492",
   "metadata": {},
   "outputs": [],
   "source": []
  },
  {
   "cell_type": "code",
   "execution_count": null,
   "id": "e44362d8",
   "metadata": {},
   "outputs": [],
   "source": []
  }
 ],
 "metadata": {
  "kernelspec": {
   "display_name": "Python 3 (ipykernel)",
   "language": "python",
   "name": "python3"
  },
  "language_info": {
   "codemirror_mode": {
    "name": "ipython",
    "version": 3
   },
   "file_extension": ".py",
   "mimetype": "text/x-python",
   "name": "python",
   "nbconvert_exporter": "python",
   "pygments_lexer": "ipython3",
   "version": "3.9.12"
  }
 },
 "nbformat": 4,
 "nbformat_minor": 5
}
